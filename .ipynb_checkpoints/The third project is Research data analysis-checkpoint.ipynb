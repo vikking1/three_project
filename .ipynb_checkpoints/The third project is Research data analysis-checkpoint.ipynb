{
 "cells": [
  {
   "cell_type": "markdown",
   "metadata": {},
   "source": [
    "# Исследование объявлений о продаже квартир\n",
    "\n",
    "В вашем распоряжении данные сервиса Яндекс.Недвижимость — архив объявлений о продаже квартир в Санкт-Петербурге и соседних населённых пунктов за несколько лет. Нужно научиться определять рыночную стоимость объектов недвижимости. Ваша задача — установить параметры. Это позволит построить автоматизированную систему: она отследит аномалии и мошенническую деятельность. \n",
    "\n",
    "По каждой квартире на продажу доступны два вида данных. Первые вписаны пользователем, вторые — получены автоматически на основе картографических данных. Например, расстояние до центра, аэропорта, ближайшего парка и водоёма. "
   ]
  },
  {
   "cell_type": "markdown",
   "metadata": {},
   "source": [
    "### Откройте файл с данными и изучите общую информацию. "
   ]
  },
  {
   "cell_type": "code",
   "execution_count": 2,
   "metadata": {},
   "outputs": [],
   "source": [
    "import pandas as pd\n",
    "import matplotlib.pyplot as plt \n",
    "import os"
   ]
  },
  {
   "cell_type": "code",
   "execution_count": 3,
   "metadata": {},
   "outputs": [
    {
     "data": {
      "text/html": [
       "<div>\n",
       "<style scoped>\n",
       "    .dataframe tbody tr th:only-of-type {\n",
       "        vertical-align: middle;\n",
       "    }\n",
       "\n",
       "    .dataframe tbody tr th {\n",
       "        vertical-align: top;\n",
       "    }\n",
       "\n",
       "    .dataframe thead th {\n",
       "        text-align: right;\n",
       "    }\n",
       "</style>\n",
       "<table border=\"1\" class=\"dataframe\">\n",
       "  <thead>\n",
       "    <tr style=\"text-align: right;\">\n",
       "      <th></th>\n",
       "      <th>total_images</th>\n",
       "      <th>last_price</th>\n",
       "      <th>total_area</th>\n",
       "      <th>first_day_exposition</th>\n",
       "      <th>rooms</th>\n",
       "      <th>ceiling_height</th>\n",
       "      <th>floors_total</th>\n",
       "      <th>living_area</th>\n",
       "      <th>floor</th>\n",
       "      <th>is_apartment</th>\n",
       "      <th>studio</th>\n",
       "      <th>open_plan</th>\n",
       "      <th>kitchen_area</th>\n",
       "      <th>balcony</th>\n",
       "      <th>locality_name</th>\n",
       "      <th>airports_nearest</th>\n",
       "      <th>cityCenters_nearest</th>\n",
       "      <th>parks_around3000</th>\n",
       "      <th>parks_nearest</th>\n",
       "      <th>ponds_around3000</th>\n",
       "      <th>ponds_nearest</th>\n",
       "      <th>days_exposition</th>\n",
       "    </tr>\n",
       "  </thead>\n",
       "  <tbody>\n",
       "    <tr>\n",
       "      <th>0</th>\n",
       "      <td>20</td>\n",
       "      <td>13000000.0</td>\n",
       "      <td>108.0</td>\n",
       "      <td>2019-03-07T00:00:00</td>\n",
       "      <td>3</td>\n",
       "      <td>2.70</td>\n",
       "      <td>16.0</td>\n",
       "      <td>51.0</td>\n",
       "      <td>8</td>\n",
       "      <td>NaN</td>\n",
       "      <td>False</td>\n",
       "      <td>False</td>\n",
       "      <td>25.0</td>\n",
       "      <td>NaN</td>\n",
       "      <td>Санкт-Петербург</td>\n",
       "      <td>18863.0</td>\n",
       "      <td>16028.0</td>\n",
       "      <td>1.0</td>\n",
       "      <td>482.0</td>\n",
       "      <td>2.0</td>\n",
       "      <td>755.0</td>\n",
       "      <td>NaN</td>\n",
       "    </tr>\n",
       "    <tr>\n",
       "      <th>1</th>\n",
       "      <td>7</td>\n",
       "      <td>3350000.0</td>\n",
       "      <td>40.4</td>\n",
       "      <td>2018-12-04T00:00:00</td>\n",
       "      <td>1</td>\n",
       "      <td>NaN</td>\n",
       "      <td>11.0</td>\n",
       "      <td>18.6</td>\n",
       "      <td>1</td>\n",
       "      <td>NaN</td>\n",
       "      <td>False</td>\n",
       "      <td>False</td>\n",
       "      <td>11.0</td>\n",
       "      <td>2.0</td>\n",
       "      <td>посёлок Шушары</td>\n",
       "      <td>12817.0</td>\n",
       "      <td>18603.0</td>\n",
       "      <td>0.0</td>\n",
       "      <td>NaN</td>\n",
       "      <td>0.0</td>\n",
       "      <td>NaN</td>\n",
       "      <td>81.0</td>\n",
       "    </tr>\n",
       "    <tr>\n",
       "      <th>2</th>\n",
       "      <td>10</td>\n",
       "      <td>5196000.0</td>\n",
       "      <td>56.0</td>\n",
       "      <td>2015-08-20T00:00:00</td>\n",
       "      <td>2</td>\n",
       "      <td>NaN</td>\n",
       "      <td>5.0</td>\n",
       "      <td>34.3</td>\n",
       "      <td>4</td>\n",
       "      <td>NaN</td>\n",
       "      <td>False</td>\n",
       "      <td>False</td>\n",
       "      <td>8.3</td>\n",
       "      <td>0.0</td>\n",
       "      <td>Санкт-Петербург</td>\n",
       "      <td>21741.0</td>\n",
       "      <td>13933.0</td>\n",
       "      <td>1.0</td>\n",
       "      <td>90.0</td>\n",
       "      <td>2.0</td>\n",
       "      <td>574.0</td>\n",
       "      <td>558.0</td>\n",
       "    </tr>\n",
       "    <tr>\n",
       "      <th>3</th>\n",
       "      <td>0</td>\n",
       "      <td>64900000.0</td>\n",
       "      <td>159.0</td>\n",
       "      <td>2015-07-24T00:00:00</td>\n",
       "      <td>3</td>\n",
       "      <td>NaN</td>\n",
       "      <td>14.0</td>\n",
       "      <td>NaN</td>\n",
       "      <td>9</td>\n",
       "      <td>NaN</td>\n",
       "      <td>False</td>\n",
       "      <td>False</td>\n",
       "      <td>NaN</td>\n",
       "      <td>0.0</td>\n",
       "      <td>Санкт-Петербург</td>\n",
       "      <td>28098.0</td>\n",
       "      <td>6800.0</td>\n",
       "      <td>2.0</td>\n",
       "      <td>84.0</td>\n",
       "      <td>3.0</td>\n",
       "      <td>234.0</td>\n",
       "      <td>424.0</td>\n",
       "    </tr>\n",
       "    <tr>\n",
       "      <th>4</th>\n",
       "      <td>2</td>\n",
       "      <td>10000000.0</td>\n",
       "      <td>100.0</td>\n",
       "      <td>2018-06-19T00:00:00</td>\n",
       "      <td>2</td>\n",
       "      <td>3.03</td>\n",
       "      <td>14.0</td>\n",
       "      <td>32.0</td>\n",
       "      <td>13</td>\n",
       "      <td>NaN</td>\n",
       "      <td>False</td>\n",
       "      <td>False</td>\n",
       "      <td>41.0</td>\n",
       "      <td>NaN</td>\n",
       "      <td>Санкт-Петербург</td>\n",
       "      <td>31856.0</td>\n",
       "      <td>8098.0</td>\n",
       "      <td>2.0</td>\n",
       "      <td>112.0</td>\n",
       "      <td>1.0</td>\n",
       "      <td>48.0</td>\n",
       "      <td>121.0</td>\n",
       "    </tr>\n",
       "  </tbody>\n",
       "</table>\n",
       "</div>"
      ],
      "text/plain": [
       "   total_images  last_price  total_area first_day_exposition  rooms  \\\n",
       "0            20  13000000.0       108.0  2019-03-07T00:00:00      3   \n",
       "1             7   3350000.0        40.4  2018-12-04T00:00:00      1   \n",
       "2            10   5196000.0        56.0  2015-08-20T00:00:00      2   \n",
       "3             0  64900000.0       159.0  2015-07-24T00:00:00      3   \n",
       "4             2  10000000.0       100.0  2018-06-19T00:00:00      2   \n",
       "\n",
       "   ceiling_height  floors_total  living_area  floor is_apartment  studio  \\\n",
       "0            2.70          16.0         51.0      8          NaN   False   \n",
       "1             NaN          11.0         18.6      1          NaN   False   \n",
       "2             NaN           5.0         34.3      4          NaN   False   \n",
       "3             NaN          14.0          NaN      9          NaN   False   \n",
       "4            3.03          14.0         32.0     13          NaN   False   \n",
       "\n",
       "   open_plan  kitchen_area  balcony    locality_name  airports_nearest  \\\n",
       "0      False          25.0      NaN  Санкт-Петербург           18863.0   \n",
       "1      False          11.0      2.0   посёлок Шушары           12817.0   \n",
       "2      False           8.3      0.0  Санкт-Петербург           21741.0   \n",
       "3      False           NaN      0.0  Санкт-Петербург           28098.0   \n",
       "4      False          41.0      NaN  Санкт-Петербург           31856.0   \n",
       "\n",
       "   cityCenters_nearest  parks_around3000  parks_nearest  ponds_around3000  \\\n",
       "0              16028.0               1.0          482.0               2.0   \n",
       "1              18603.0               0.0            NaN               0.0   \n",
       "2              13933.0               1.0           90.0               2.0   \n",
       "3               6800.0               2.0           84.0               3.0   \n",
       "4               8098.0               2.0          112.0               1.0   \n",
       "\n",
       "   ponds_nearest  days_exposition  \n",
       "0          755.0              NaN  \n",
       "1            NaN             81.0  \n",
       "2          574.0            558.0  \n",
       "3          234.0            424.0  \n",
       "4           48.0            121.0  "
      ]
     },
     "metadata": {},
     "output_type": "display_data"
    },
    {
     "name": "stdout",
     "output_type": "stream",
     "text": [
      "<class 'pandas.core.frame.DataFrame'>\n",
      "RangeIndex: 23699 entries, 0 to 23698\n",
      "Data columns (total 22 columns):\n",
      " #   Column                Non-Null Count  Dtype  \n",
      "---  ------                --------------  -----  \n",
      " 0   total_images          23699 non-null  int64  \n",
      " 1   last_price            23699 non-null  float64\n",
      " 2   total_area            23699 non-null  float64\n",
      " 3   first_day_exposition  23699 non-null  object \n",
      " 4   rooms                 23699 non-null  int64  \n",
      " 5   ceiling_height        14504 non-null  float64\n",
      " 6   floors_total          23613 non-null  float64\n",
      " 7   living_area           21796 non-null  float64\n",
      " 8   floor                 23699 non-null  int64  \n",
      " 9   is_apartment          2775 non-null   object \n",
      " 10  studio                23699 non-null  bool   \n",
      " 11  open_plan             23699 non-null  bool   \n",
      " 12  kitchen_area          21421 non-null  float64\n",
      " 13  balcony               12180 non-null  float64\n",
      " 14  locality_name         23650 non-null  object \n",
      " 15  airports_nearest      18157 non-null  float64\n",
      " 16  cityCenters_nearest   18180 non-null  float64\n",
      " 17  parks_around3000      18181 non-null  float64\n",
      " 18  parks_nearest         8079 non-null   float64\n",
      " 19  ponds_around3000      18181 non-null  float64\n",
      " 20  ponds_nearest         9110 non-null   float64\n",
      " 21  days_exposition       20518 non-null  float64\n",
      "dtypes: bool(2), float64(14), int64(3), object(3)\n",
      "memory usage: 3.7+ MB\n"
     ]
    },
    {
     "data": {
      "text/html": [
       "<div>\n",
       "<style scoped>\n",
       "    .dataframe tbody tr th:only-of-type {\n",
       "        vertical-align: middle;\n",
       "    }\n",
       "\n",
       "    .dataframe tbody tr th {\n",
       "        vertical-align: top;\n",
       "    }\n",
       "\n",
       "    .dataframe thead th {\n",
       "        text-align: right;\n",
       "    }\n",
       "</style>\n",
       "<table border=\"1\" class=\"dataframe\">\n",
       "  <thead>\n",
       "    <tr style=\"text-align: right;\">\n",
       "      <th></th>\n",
       "      <th>total_images</th>\n",
       "      <th>last_price</th>\n",
       "      <th>total_area</th>\n",
       "      <th>rooms</th>\n",
       "      <th>ceiling_height</th>\n",
       "      <th>floors_total</th>\n",
       "      <th>living_area</th>\n",
       "      <th>floor</th>\n",
       "      <th>kitchen_area</th>\n",
       "      <th>balcony</th>\n",
       "      <th>airports_nearest</th>\n",
       "      <th>cityCenters_nearest</th>\n",
       "      <th>parks_around3000</th>\n",
       "      <th>parks_nearest</th>\n",
       "      <th>ponds_around3000</th>\n",
       "      <th>ponds_nearest</th>\n",
       "      <th>days_exposition</th>\n",
       "    </tr>\n",
       "  </thead>\n",
       "  <tbody>\n",
       "    <tr>\n",
       "      <th>count</th>\n",
       "      <td>23699.000000</td>\n",
       "      <td>2.369900e+04</td>\n",
       "      <td>23699.000000</td>\n",
       "      <td>23699.000000</td>\n",
       "      <td>14504.000000</td>\n",
       "      <td>23613.000000</td>\n",
       "      <td>21796.000000</td>\n",
       "      <td>23699.000000</td>\n",
       "      <td>21421.000000</td>\n",
       "      <td>12180.000000</td>\n",
       "      <td>18157.000000</td>\n",
       "      <td>18180.000000</td>\n",
       "      <td>18181.000000</td>\n",
       "      <td>8079.000000</td>\n",
       "      <td>18181.000000</td>\n",
       "      <td>9110.000000</td>\n",
       "      <td>20518.000000</td>\n",
       "    </tr>\n",
       "    <tr>\n",
       "      <th>mean</th>\n",
       "      <td>9.858475</td>\n",
       "      <td>6.541549e+06</td>\n",
       "      <td>60.348651</td>\n",
       "      <td>2.070636</td>\n",
       "      <td>2.771499</td>\n",
       "      <td>10.673824</td>\n",
       "      <td>34.457852</td>\n",
       "      <td>5.892358</td>\n",
       "      <td>10.569807</td>\n",
       "      <td>1.150082</td>\n",
       "      <td>28793.672193</td>\n",
       "      <td>14191.277833</td>\n",
       "      <td>0.611408</td>\n",
       "      <td>490.804555</td>\n",
       "      <td>0.770255</td>\n",
       "      <td>517.980900</td>\n",
       "      <td>180.888634</td>\n",
       "    </tr>\n",
       "    <tr>\n",
       "      <th>std</th>\n",
       "      <td>5.682529</td>\n",
       "      <td>1.088701e+07</td>\n",
       "      <td>35.654083</td>\n",
       "      <td>1.078405</td>\n",
       "      <td>1.261056</td>\n",
       "      <td>6.597173</td>\n",
       "      <td>22.030445</td>\n",
       "      <td>4.885249</td>\n",
       "      <td>5.905438</td>\n",
       "      <td>1.071300</td>\n",
       "      <td>12630.880622</td>\n",
       "      <td>8608.386210</td>\n",
       "      <td>0.802074</td>\n",
       "      <td>342.317995</td>\n",
       "      <td>0.938346</td>\n",
       "      <td>277.720643</td>\n",
       "      <td>219.727988</td>\n",
       "    </tr>\n",
       "    <tr>\n",
       "      <th>min</th>\n",
       "      <td>0.000000</td>\n",
       "      <td>1.219000e+04</td>\n",
       "      <td>12.000000</td>\n",
       "      <td>0.000000</td>\n",
       "      <td>1.000000</td>\n",
       "      <td>1.000000</td>\n",
       "      <td>2.000000</td>\n",
       "      <td>1.000000</td>\n",
       "      <td>1.300000</td>\n",
       "      <td>0.000000</td>\n",
       "      <td>0.000000</td>\n",
       "      <td>181.000000</td>\n",
       "      <td>0.000000</td>\n",
       "      <td>1.000000</td>\n",
       "      <td>0.000000</td>\n",
       "      <td>13.000000</td>\n",
       "      <td>1.000000</td>\n",
       "    </tr>\n",
       "    <tr>\n",
       "      <th>25%</th>\n",
       "      <td>6.000000</td>\n",
       "      <td>3.400000e+06</td>\n",
       "      <td>40.000000</td>\n",
       "      <td>1.000000</td>\n",
       "      <td>2.520000</td>\n",
       "      <td>5.000000</td>\n",
       "      <td>18.600000</td>\n",
       "      <td>2.000000</td>\n",
       "      <td>7.000000</td>\n",
       "      <td>0.000000</td>\n",
       "      <td>18585.000000</td>\n",
       "      <td>9238.000000</td>\n",
       "      <td>0.000000</td>\n",
       "      <td>288.000000</td>\n",
       "      <td>0.000000</td>\n",
       "      <td>294.000000</td>\n",
       "      <td>45.000000</td>\n",
       "    </tr>\n",
       "    <tr>\n",
       "      <th>50%</th>\n",
       "      <td>9.000000</td>\n",
       "      <td>4.650000e+06</td>\n",
       "      <td>52.000000</td>\n",
       "      <td>2.000000</td>\n",
       "      <td>2.650000</td>\n",
       "      <td>9.000000</td>\n",
       "      <td>30.000000</td>\n",
       "      <td>4.000000</td>\n",
       "      <td>9.100000</td>\n",
       "      <td>1.000000</td>\n",
       "      <td>26726.000000</td>\n",
       "      <td>13098.500000</td>\n",
       "      <td>0.000000</td>\n",
       "      <td>455.000000</td>\n",
       "      <td>1.000000</td>\n",
       "      <td>502.000000</td>\n",
       "      <td>95.000000</td>\n",
       "    </tr>\n",
       "    <tr>\n",
       "      <th>75%</th>\n",
       "      <td>14.000000</td>\n",
       "      <td>6.800000e+06</td>\n",
       "      <td>69.900000</td>\n",
       "      <td>3.000000</td>\n",
       "      <td>2.800000</td>\n",
       "      <td>16.000000</td>\n",
       "      <td>42.300000</td>\n",
       "      <td>8.000000</td>\n",
       "      <td>12.000000</td>\n",
       "      <td>2.000000</td>\n",
       "      <td>37273.000000</td>\n",
       "      <td>16293.000000</td>\n",
       "      <td>1.000000</td>\n",
       "      <td>612.000000</td>\n",
       "      <td>1.000000</td>\n",
       "      <td>729.000000</td>\n",
       "      <td>232.000000</td>\n",
       "    </tr>\n",
       "    <tr>\n",
       "      <th>max</th>\n",
       "      <td>50.000000</td>\n",
       "      <td>7.630000e+08</td>\n",
       "      <td>900.000000</td>\n",
       "      <td>19.000000</td>\n",
       "      <td>100.000000</td>\n",
       "      <td>60.000000</td>\n",
       "      <td>409.700000</td>\n",
       "      <td>33.000000</td>\n",
       "      <td>112.000000</td>\n",
       "      <td>5.000000</td>\n",
       "      <td>84869.000000</td>\n",
       "      <td>65968.000000</td>\n",
       "      <td>3.000000</td>\n",
       "      <td>3190.000000</td>\n",
       "      <td>3.000000</td>\n",
       "      <td>1344.000000</td>\n",
       "      <td>1580.000000</td>\n",
       "    </tr>\n",
       "  </tbody>\n",
       "</table>\n",
       "</div>"
      ],
      "text/plain": [
       "       total_images    last_price    total_area         rooms  ceiling_height  \\\n",
       "count  23699.000000  2.369900e+04  23699.000000  23699.000000    14504.000000   \n",
       "mean       9.858475  6.541549e+06     60.348651      2.070636        2.771499   \n",
       "std        5.682529  1.088701e+07     35.654083      1.078405        1.261056   \n",
       "min        0.000000  1.219000e+04     12.000000      0.000000        1.000000   \n",
       "25%        6.000000  3.400000e+06     40.000000      1.000000        2.520000   \n",
       "50%        9.000000  4.650000e+06     52.000000      2.000000        2.650000   \n",
       "75%       14.000000  6.800000e+06     69.900000      3.000000        2.800000   \n",
       "max       50.000000  7.630000e+08    900.000000     19.000000      100.000000   \n",
       "\n",
       "       floors_total   living_area         floor  kitchen_area       balcony  \\\n",
       "count  23613.000000  21796.000000  23699.000000  21421.000000  12180.000000   \n",
       "mean      10.673824     34.457852      5.892358     10.569807      1.150082   \n",
       "std        6.597173     22.030445      4.885249      5.905438      1.071300   \n",
       "min        1.000000      2.000000      1.000000      1.300000      0.000000   \n",
       "25%        5.000000     18.600000      2.000000      7.000000      0.000000   \n",
       "50%        9.000000     30.000000      4.000000      9.100000      1.000000   \n",
       "75%       16.000000     42.300000      8.000000     12.000000      2.000000   \n",
       "max       60.000000    409.700000     33.000000    112.000000      5.000000   \n",
       "\n",
       "       airports_nearest  cityCenters_nearest  parks_around3000  parks_nearest  \\\n",
       "count      18157.000000         18180.000000      18181.000000    8079.000000   \n",
       "mean       28793.672193         14191.277833          0.611408     490.804555   \n",
       "std        12630.880622          8608.386210          0.802074     342.317995   \n",
       "min            0.000000           181.000000          0.000000       1.000000   \n",
       "25%        18585.000000          9238.000000          0.000000     288.000000   \n",
       "50%        26726.000000         13098.500000          0.000000     455.000000   \n",
       "75%        37273.000000         16293.000000          1.000000     612.000000   \n",
       "max        84869.000000         65968.000000          3.000000    3190.000000   \n",
       "\n",
       "       ponds_around3000  ponds_nearest  days_exposition  \n",
       "count      18181.000000    9110.000000     20518.000000  \n",
       "mean           0.770255     517.980900       180.888634  \n",
       "std            0.938346     277.720643       219.727988  \n",
       "min            0.000000      13.000000         1.000000  \n",
       "25%            0.000000     294.000000        45.000000  \n",
       "50%            1.000000     502.000000        95.000000  \n",
       "75%            1.000000     729.000000       232.000000  \n",
       "max            3.000000    1344.000000      1580.000000  "
      ]
     },
     "metadata": {},
     "output_type": "display_data"
    },
    {
     "data": {
      "image/png": "[encoded data removed]",
      "text/plain": [
       "<Figure size 1080x1440 with 20 Axes>"
      ]
     },
     "metadata": {
      "needs_background": "light"
     },
     "output_type": "display_data"
    }
   ],
   "source": [
    "\n",
    "pth1 = '/datasets/real_estate_data.csv'\n",
    "pth2 = 'real_estate_data.csv'\n",
    "\n",
    "if os.path.exists(pth1):\n",
    "    df = pd.read_csv(pth1,sep ='\\t')\n",
    "elif os.path.exists(pth2):\n",
    "    df = pd.read_csv(pth2,sep ='\\t')\n",
    "else:\n",
    "    print('Something is wrong')\n",
    "\n",
    "pd.set_option('display.max_columns', 50) \n",
    "\n",
    "display(df.head())\n",
    "df.info() #полные данные по датафрейму\n",
    "df.hist(figsize=(15, 20),bins = 50)\n",
    "display(df.describe())\n",
    "\n",
    "#print (f'Колличество дубликатов в датафрейме = {df.duplicated().sum()}') явных дубликатов нет \n",
    "\n",
    " "
   ]
  },
  {
   "cell_type": "markdown",
   "metadata": {},
   "source": [
    "В данной части работе был открыт и прочитан файл\n",
    "Некоторые гистограммы имеют распределение Пуасона и нормально распределение, с не которыми выбивающимся данными\n",
    "Явыных дубликатов не было найденно"
   ]
  },
  {
   "cell_type": "markdown",
   "metadata": {},
   "source": [
    "### Предобработка данных"
   ]
  },
  {
   "cell_type": "markdown",
   "metadata": {},
   "source": [
    "Изменить значения nan на числа или булевые значения можно в столбце is_apartment, balcony,  parks_around3000, ponds_around3000 \n",
    "Так как апартаменты имеют тип данных булл так что могу предположить то что данные значения вместот nan имеют значение False\n",
    "balcony где указаны nan все скорее нету (т.е = 0) также и с парками и водоемами (и приводятся к целочисленному значению чтобы меньше занимало использованной памяти (ну и 1.5 водоема не существует)\n",
    "Удалены значения без колличество всего этажей и без указания адреса так как колличество этажей имеет малое колличество значений а квартиры без адресса являются не интересны для анализа( где они ?) \n"
   ]
  },
  {
   "cell_type": "code",
   "execution_count": 4,
   "metadata": {},
   "outputs": [
    {
     "name": "stdout",
     "output_type": "stream",
     "text": [
      "86\n"
     ]
    }
   ],
   "source": [
    "# Приведение к целочисленному типу данных \n",
    "df['balcony'] = df['balcony'].fillna(value=0).astype(int) \n",
    "df['parks_around3000'] = df['parks_around3000'].fillna(value=0).astype(int)\n",
    "df['ponds_around3000'] = df['ponds_around3000'].fillna(value=0).astype(int)\n",
    "df['ponds_nearest'] = df['ponds_nearest'].fillna(10000000).astype(int)\n",
    "df['last_price'] = df['last_price'].astype(int)\n",
    "\n",
    "# пропущенные значения заменяем на число выше максимального изданных (10000000) и добавляем столбец в км \n",
    "df['cityCenters_nearest'] = df['cityCenters_nearest'].fillna(10000000).astype(int)\n",
    "df['cityCenters_nearest_km'] = df['cityCenters_nearest']/1000\n",
    "\n",
    "# в пропущенных столбцах аппартаментов меняем значения на False\n",
    "df['is_apartment'] = df['is_apartment'].fillna(value=False)\n",
    "\n",
    "# Удаляю значение без именем и колличество этажей а оставшиеся значения привожу к целочисленному типу \n",
    "print(df['floors_total'].isna().sum()) # 86 значений без указаний всего этажей являеться не критично и можно удалить \n",
    "df.dropna(subset=['locality_name'], inplace=True)\n",
    "df.dropna(subset=['floors_total'], inplace=True)\n",
    "df['floors_total'] = df['floors_total'].astype(int)\n",
    "\n",
    "#df.info() # для само проверки\n",
    "\n",
    "\n"
   ]
  },
  {
   "cell_type": "markdown",
   "metadata": {},
   "source": [
    "Значения времени приведен к понятному типу  ( можно использовать первую функцию либо же вторую)\n",
    "После принялся заполнять медианным числом значения живой и кухонной площади\n",
    "Название городов были присвоены к нижнему регистру для удаления дубликатов ( для более полной удалений дубликатов надо болле точно проверить значений (такие как поселок и поселок городского типа ) \n",
    "Так же в названиях поменены буквы е и ё для ттого чтобы можно было удалить дубликаты (явные)\n"
   ]
  },
  {
   "cell_type": "code",
   "execution_count": 5,
   "metadata": {},
   "outputs": [
    {
     "data": {
      "text/plain": [
       "total_images                  0\n",
       "last_price                    0\n",
       "total_area                    0\n",
       "first_day_exposition          0\n",
       "rooms                         0\n",
       "ceiling_height             9084\n",
       "floors_total                  0\n",
       "living_area                   0\n",
       "floor                         0\n",
       "is_apartment                  0\n",
       "studio                        0\n",
       "open_plan                     0\n",
       "kitchen_area                  0\n",
       "balcony                       0\n",
       "locality_name                 0\n",
       "airports_nearest           5524\n",
       "cityCenters_nearest           0\n",
       "parks_around3000              0\n",
       "parks_nearest             15535\n",
       "ponds_around3000              0\n",
       "ponds_nearest                 0\n",
       "days_exposition            3171\n",
       "cityCenters_nearest_km        0\n",
       "dtype: int64"
      ]
     },
     "execution_count": 5,
     "metadata": {},
     "output_type": "execute_result"
    }
   ],
   "source": [
    "df['first_day_exposition'] = pd.to_datetime(df['first_day_exposition'])\n",
    "#df['first_day_exposition'] = pd.to_datetime(df['first_day_exposition'], format='%Y-%m-%dT%H:%M:%S')\n",
    "#print(df['first_day_exposition'].head())\n",
    "\n",
    "# заполнение медианными значениям живой площади и площадь кухни \n",
    "liv_ar = df['living_area'].mean() / df['kitchen_area'].mean()\n",
    "kit_ar = df['kitchen_area'].mean() / df['living_area'].mean()\n",
    "df['living_area'].fillna(liv_ar * df['total_area'], inplace=True)\n",
    "df['kitchen_area'].fillna(kit_ar * df['total_area'], inplace=True)\n",
    "\n",
    "df['locality_name'] = df['locality_name'].str.lower()\n",
    "df['locality_name'] = df['locality_name'].str.replace('ё', 'е', regex=True)\n",
    "df = df.dropna(subset=['locality_name'])\n",
    "\n",
    "df.isnull().sum()"
   ]
  },
  {
   "cell_type": "code",
   "execution_count": 6,
   "metadata": {},
   "outputs": [
    {
     "name": "stderr",
     "output_type": "stream",
     "text": [
      "/opt/conda/lib/python3.9/site-packages/numpy/lib/nanfunctions.py:1117: RuntimeWarning: Mean of empty slice\n",
      "  return np.nanmean(a, axis, out=out, keepdims=keepdims)\n",
      "/opt/conda/lib/python3.9/site-packages/numpy/lib/nanfunctions.py:1117: RuntimeWarning: Mean of empty slice\n",
      "  return np.nanmean(a, axis, out=out, keepdims=keepdims)\n",
      "/opt/conda/lib/python3.9/site-packages/numpy/lib/nanfunctions.py:1117: RuntimeWarning: Mean of empty slice\n",
      "  return np.nanmean(a, axis, out=out, keepdims=keepdims)\n",
      "/opt/conda/lib/python3.9/site-packages/numpy/lib/nanfunctions.py:1117: RuntimeWarning: Mean of empty slice\n",
      "  return np.nanmean(a, axis, out=out, keepdims=keepdims)\n",
      "/opt/conda/lib/python3.9/site-packages/numpy/lib/nanfunctions.py:1117: RuntimeWarning: Mean of empty slice\n",
      "  return np.nanmean(a, axis, out=out, keepdims=keepdims)\n",
      "/opt/conda/lib/python3.9/site-packages/numpy/lib/nanfunctions.py:1117: RuntimeWarning: Mean of empty slice\n",
      "  return np.nanmean(a, axis, out=out, keepdims=keepdims)\n",
      "/opt/conda/lib/python3.9/site-packages/numpy/lib/nanfunctions.py:1117: RuntimeWarning: Mean of empty slice\n",
      "  return np.nanmean(a, axis, out=out, keepdims=keepdims)\n",
      "/opt/conda/lib/python3.9/site-packages/numpy/lib/nanfunctions.py:1117: RuntimeWarning: Mean of empty slice\n",
      "  return np.nanmean(a, axis, out=out, keepdims=keepdims)\n",
      "/opt/conda/lib/python3.9/site-packages/numpy/lib/nanfunctions.py:1117: RuntimeWarning: Mean of empty slice\n",
      "  return np.nanmean(a, axis, out=out, keepdims=keepdims)\n",
      "/opt/conda/lib/python3.9/site-packages/numpy/lib/nanfunctions.py:1117: RuntimeWarning: Mean of empty slice\n",
      "  return np.nanmean(a, axis, out=out, keepdims=keepdims)\n",
      "/opt/conda/lib/python3.9/site-packages/numpy/lib/nanfunctions.py:1117: RuntimeWarning: Mean of empty slice\n",
      "  return np.nanmean(a, axis, out=out, keepdims=keepdims)\n",
      "/opt/conda/lib/python3.9/site-packages/numpy/lib/nanfunctions.py:1117: RuntimeWarning: Mean of empty slice\n",
      "  return np.nanmean(a, axis, out=out, keepdims=keepdims)\n",
      "/opt/conda/lib/python3.9/site-packages/numpy/lib/nanfunctions.py:1117: RuntimeWarning: Mean of empty slice\n",
      "  return np.nanmean(a, axis, out=out, keepdims=keepdims)\n",
      "/opt/conda/lib/python3.9/site-packages/numpy/lib/nanfunctions.py:1117: RuntimeWarning: Mean of empty slice\n",
      "  return np.nanmean(a, axis, out=out, keepdims=keepdims)\n",
      "/opt/conda/lib/python3.9/site-packages/numpy/lib/nanfunctions.py:1117: RuntimeWarning: Mean of empty slice\n",
      "  return np.nanmean(a, axis, out=out, keepdims=keepdims)\n",
      "/opt/conda/lib/python3.9/site-packages/numpy/lib/nanfunctions.py:1117: RuntimeWarning: Mean of empty slice\n",
      "  return np.nanmean(a, axis, out=out, keepdims=keepdims)\n",
      "/opt/conda/lib/python3.9/site-packages/numpy/lib/nanfunctions.py:1117: RuntimeWarning: Mean of empty slice\n",
      "  return np.nanmean(a, axis, out=out, keepdims=keepdims)\n",
      "/opt/conda/lib/python3.9/site-packages/numpy/lib/nanfunctions.py:1117: RuntimeWarning: Mean of empty slice\n",
      "  return np.nanmean(a, axis, out=out, keepdims=keepdims)\n",
      "/opt/conda/lib/python3.9/site-packages/numpy/lib/nanfunctions.py:1117: RuntimeWarning: Mean of empty slice\n",
      "  return np.nanmean(a, axis, out=out, keepdims=keepdims)\n",
      "/opt/conda/lib/python3.9/site-packages/numpy/lib/nanfunctions.py:1117: RuntimeWarning: Mean of empty slice\n",
      "  return np.nanmean(a, axis, out=out, keepdims=keepdims)\n",
      "/opt/conda/lib/python3.9/site-packages/numpy/lib/nanfunctions.py:1117: RuntimeWarning: Mean of empty slice\n",
      "  return np.nanmean(a, axis, out=out, keepdims=keepdims)\n",
      "/opt/conda/lib/python3.9/site-packages/numpy/lib/nanfunctions.py:1117: RuntimeWarning: Mean of empty slice\n",
      "  return np.nanmean(a, axis, out=out, keepdims=keepdims)\n",
      "/opt/conda/lib/python3.9/site-packages/numpy/lib/nanfunctions.py:1117: RuntimeWarning: Mean of empty slice\n",
      "  return np.nanmean(a, axis, out=out, keepdims=keepdims)\n",
      "/opt/conda/lib/python3.9/site-packages/numpy/lib/nanfunctions.py:1117: RuntimeWarning: Mean of empty slice\n",
      "  return np.nanmean(a, axis, out=out, keepdims=keepdims)\n",
      "/opt/conda/lib/python3.9/site-packages/numpy/lib/nanfunctions.py:1117: RuntimeWarning: Mean of empty slice\n",
      "  return np.nanmean(a, axis, out=out, keepdims=keepdims)\n",
      "/opt/conda/lib/python3.9/site-packages/numpy/lib/nanfunctions.py:1117: RuntimeWarning: Mean of empty slice\n",
      "  return np.nanmean(a, axis, out=out, keepdims=keepdims)\n",
      "/opt/conda/lib/python3.9/site-packages/numpy/lib/nanfunctions.py:1117: RuntimeWarning: Mean of empty slice\n",
      "  return np.nanmean(a, axis, out=out, keepdims=keepdims)\n",
      "/opt/conda/lib/python3.9/site-packages/numpy/lib/nanfunctions.py:1117: RuntimeWarning: Mean of empty slice\n",
      "  return np.nanmean(a, axis, out=out, keepdims=keepdims)\n",
      "/opt/conda/lib/python3.9/site-packages/numpy/lib/nanfunctions.py:1117: RuntimeWarning: Mean of empty slice\n",
      "  return np.nanmean(a, axis, out=out, keepdims=keepdims)\n",
      "/opt/conda/lib/python3.9/site-packages/numpy/lib/nanfunctions.py:1117: RuntimeWarning: Mean of empty slice\n",
      "  return np.nanmean(a, axis, out=out, keepdims=keepdims)\n",
      "/opt/conda/lib/python3.9/site-packages/numpy/lib/nanfunctions.py:1117: RuntimeWarning: Mean of empty slice\n",
      "  return np.nanmean(a, axis, out=out, keepdims=keepdims)\n",
      "/opt/conda/lib/python3.9/site-packages/numpy/lib/nanfunctions.py:1117: RuntimeWarning: Mean of empty slice\n",
      "  return np.nanmean(a, axis, out=out, keepdims=keepdims)\n",
      "/opt/conda/lib/python3.9/site-packages/numpy/lib/nanfunctions.py:1117: RuntimeWarning: Mean of empty slice\n",
      "  return np.nanmean(a, axis, out=out, keepdims=keepdims)\n",
      "/opt/conda/lib/python3.9/site-packages/numpy/lib/nanfunctions.py:1117: RuntimeWarning: Mean of empty slice\n",
      "  return np.nanmean(a, axis, out=out, keepdims=keepdims)\n",
      "/opt/conda/lib/python3.9/site-packages/numpy/lib/nanfunctions.py:1117: RuntimeWarning: Mean of empty slice\n",
      "  return np.nanmean(a, axis, out=out, keepdims=keepdims)\n",
      "/opt/conda/lib/python3.9/site-packages/numpy/lib/nanfunctions.py:1117: RuntimeWarning: Mean of empty slice\n",
      "  return np.nanmean(a, axis, out=out, keepdims=keepdims)\n",
      "/opt/conda/lib/python3.9/site-packages/numpy/lib/nanfunctions.py:1117: RuntimeWarning: Mean of empty slice\n",
      "  return np.nanmean(a, axis, out=out, keepdims=keepdims)\n",
      "/opt/conda/lib/python3.9/site-packages/numpy/lib/nanfunctions.py:1117: RuntimeWarning: Mean of empty slice\n",
      "  return np.nanmean(a, axis, out=out, keepdims=keepdims)\n",
      "/opt/conda/lib/python3.9/site-packages/numpy/lib/nanfunctions.py:1117: RuntimeWarning: Mean of empty slice\n",
      "  return np.nanmean(a, axis, out=out, keepdims=keepdims)\n",
      "/opt/conda/lib/python3.9/site-packages/numpy/lib/nanfunctions.py:1117: RuntimeWarning: Mean of empty slice\n",
      "  return np.nanmean(a, axis, out=out, keepdims=keepdims)\n",
      "/opt/conda/lib/python3.9/site-packages/numpy/lib/nanfunctions.py:1117: RuntimeWarning: Mean of empty slice\n",
      "  return np.nanmean(a, axis, out=out, keepdims=keepdims)\n",
      "/opt/conda/lib/python3.9/site-packages/numpy/lib/nanfunctions.py:1117: RuntimeWarning: Mean of empty slice\n",
      "  return np.nanmean(a, axis, out=out, keepdims=keepdims)\n",
      "/opt/conda/lib/python3.9/site-packages/numpy/lib/nanfunctions.py:1117: RuntimeWarning: Mean of empty slice\n",
      "  return np.nanmean(a, axis, out=out, keepdims=keepdims)\n",
      "/opt/conda/lib/python3.9/site-packages/numpy/lib/nanfunctions.py:1117: RuntimeWarning: Mean of empty slice\n",
      "  return np.nanmean(a, axis, out=out, keepdims=keepdims)\n",
      "/opt/conda/lib/python3.9/site-packages/numpy/lib/nanfunctions.py:1117: RuntimeWarning: Mean of empty slice\n",
      "  return np.nanmean(a, axis, out=out, keepdims=keepdims)\n",
      "/opt/conda/lib/python3.9/site-packages/numpy/lib/nanfunctions.py:1117: RuntimeWarning: Mean of empty slice\n",
      "  return np.nanmean(a, axis, out=out, keepdims=keepdims)\n",
      "/opt/conda/lib/python3.9/site-packages/numpy/lib/nanfunctions.py:1117: RuntimeWarning: Mean of empty slice\n",
      "  return np.nanmean(a, axis, out=out, keepdims=keepdims)\n",
      "/opt/conda/lib/python3.9/site-packages/numpy/lib/nanfunctions.py:1117: RuntimeWarning: Mean of empty slice\n",
      "  return np.nanmean(a, axis, out=out, keepdims=keepdims)\n",
      "/opt/conda/lib/python3.9/site-packages/numpy/lib/nanfunctions.py:1117: RuntimeWarning: Mean of empty slice\n",
      "  return np.nanmean(a, axis, out=out, keepdims=keepdims)\n",
      "/opt/conda/lib/python3.9/site-packages/numpy/lib/nanfunctions.py:1117: RuntimeWarning: Mean of empty slice\n",
      "  return np.nanmean(a, axis, out=out, keepdims=keepdims)\n",
      "/opt/conda/lib/python3.9/site-packages/numpy/lib/nanfunctions.py:1117: RuntimeWarning: Mean of empty slice\n",
      "  return np.nanmean(a, axis, out=out, keepdims=keepdims)\n",
      "/opt/conda/lib/python3.9/site-packages/numpy/lib/nanfunctions.py:1117: RuntimeWarning: Mean of empty slice\n",
      "  return np.nanmean(a, axis, out=out, keepdims=keepdims)\n",
      "/opt/conda/lib/python3.9/site-packages/numpy/lib/nanfunctions.py:1117: RuntimeWarning: Mean of empty slice\n",
      "  return np.nanmean(a, axis, out=out, keepdims=keepdims)\n",
      "/opt/conda/lib/python3.9/site-packages/numpy/lib/nanfunctions.py:1117: RuntimeWarning: Mean of empty slice\n",
      "  return np.nanmean(a, axis, out=out, keepdims=keepdims)\n",
      "/opt/conda/lib/python3.9/site-packages/numpy/lib/nanfunctions.py:1117: RuntimeWarning: Mean of empty slice\n",
      "  return np.nanmean(a, axis, out=out, keepdims=keepdims)\n",
      "/opt/conda/lib/python3.9/site-packages/numpy/lib/nanfunctions.py:1117: RuntimeWarning: Mean of empty slice\n",
      "  return np.nanmean(a, axis, out=out, keepdims=keepdims)\n",
      "/opt/conda/lib/python3.9/site-packages/numpy/lib/nanfunctions.py:1117: RuntimeWarning: Mean of empty slice\n",
      "  return np.nanmean(a, axis, out=out, keepdims=keepdims)\n",
      "/opt/conda/lib/python3.9/site-packages/numpy/lib/nanfunctions.py:1117: RuntimeWarning: Mean of empty slice\n",
      "  return np.nanmean(a, axis, out=out, keepdims=keepdims)\n",
      "/opt/conda/lib/python3.9/site-packages/numpy/lib/nanfunctions.py:1117: RuntimeWarning: Mean of empty slice\n",
      "  return np.nanmean(a, axis, out=out, keepdims=keepdims)\n",
      "/opt/conda/lib/python3.9/site-packages/numpy/lib/nanfunctions.py:1117: RuntimeWarning: Mean of empty slice\n",
      "  return np.nanmean(a, axis, out=out, keepdims=keepdims)\n",
      "/opt/conda/lib/python3.9/site-packages/numpy/lib/nanfunctions.py:1117: RuntimeWarning: Mean of empty slice\n",
      "  return np.nanmean(a, axis, out=out, keepdims=keepdims)\n",
      "/opt/conda/lib/python3.9/site-packages/numpy/lib/nanfunctions.py:1117: RuntimeWarning: Mean of empty slice\n",
      "  return np.nanmean(a, axis, out=out, keepdims=keepdims)\n",
      "/opt/conda/lib/python3.9/site-packages/numpy/lib/nanfunctions.py:1117: RuntimeWarning: Mean of empty slice\n",
      "  return np.nanmean(a, axis, out=out, keepdims=keepdims)\n",
      "/opt/conda/lib/python3.9/site-packages/numpy/lib/nanfunctions.py:1117: RuntimeWarning: Mean of empty slice\n",
      "  return np.nanmean(a, axis, out=out, keepdims=keepdims)\n",
      "/opt/conda/lib/python3.9/site-packages/numpy/lib/nanfunctions.py:1117: RuntimeWarning: Mean of empty slice\n",
      "  return np.nanmean(a, axis, out=out, keepdims=keepdims)\n",
      "/opt/conda/lib/python3.9/site-packages/numpy/lib/nanfunctions.py:1117: RuntimeWarning: Mean of empty slice\n",
      "  return np.nanmean(a, axis, out=out, keepdims=keepdims)\n",
      "/opt/conda/lib/python3.9/site-packages/numpy/lib/nanfunctions.py:1117: RuntimeWarning: Mean of empty slice\n",
      "  return np.nanmean(a, axis, out=out, keepdims=keepdims)\n",
      "/opt/conda/lib/python3.9/site-packages/numpy/lib/nanfunctions.py:1117: RuntimeWarning: Mean of empty slice\n",
      "  return np.nanmean(a, axis, out=out, keepdims=keepdims)\n",
      "/opt/conda/lib/python3.9/site-packages/numpy/lib/nanfunctions.py:1117: RuntimeWarning: Mean of empty slice\n",
      "  return np.nanmean(a, axis, out=out, keepdims=keepdims)\n",
      "/opt/conda/lib/python3.9/site-packages/numpy/lib/nanfunctions.py:1117: RuntimeWarning: Mean of empty slice\n",
      "  return np.nanmean(a, axis, out=out, keepdims=keepdims)\n",
      "/opt/conda/lib/python3.9/site-packages/numpy/lib/nanfunctions.py:1117: RuntimeWarning: Mean of empty slice\n",
      "  return np.nanmean(a, axis, out=out, keepdims=keepdims)\n",
      "/opt/conda/lib/python3.9/site-packages/numpy/lib/nanfunctions.py:1117: RuntimeWarning: Mean of empty slice\n",
      "  return np.nanmean(a, axis, out=out, keepdims=keepdims)\n",
      "/opt/conda/lib/python3.9/site-packages/numpy/lib/nanfunctions.py:1117: RuntimeWarning: Mean of empty slice\n",
      "  return np.nanmean(a, axis, out=out, keepdims=keepdims)\n",
      "/opt/conda/lib/python3.9/site-packages/numpy/lib/nanfunctions.py:1117: RuntimeWarning: Mean of empty slice\n",
      "  return np.nanmean(a, axis, out=out, keepdims=keepdims)\n",
      "/opt/conda/lib/python3.9/site-packages/numpy/lib/nanfunctions.py:1117: RuntimeWarning: Mean of empty slice\n",
      "  return np.nanmean(a, axis, out=out, keepdims=keepdims)\n",
      "/opt/conda/lib/python3.9/site-packages/numpy/lib/nanfunctions.py:1117: RuntimeWarning: Mean of empty slice\n",
      "  return np.nanmean(a, axis, out=out, keepdims=keepdims)\n",
      "/opt/conda/lib/python3.9/site-packages/numpy/lib/nanfunctions.py:1117: RuntimeWarning: Mean of empty slice\n",
      "  return np.nanmean(a, axis, out=out, keepdims=keepdims)\n",
      "/opt/conda/lib/python3.9/site-packages/numpy/lib/nanfunctions.py:1117: RuntimeWarning: Mean of empty slice\n",
      "  return np.nanmean(a, axis, out=out, keepdims=keepdims)\n",
      "/opt/conda/lib/python3.9/site-packages/numpy/lib/nanfunctions.py:1117: RuntimeWarning: Mean of empty slice\n",
      "  return np.nanmean(a, axis, out=out, keepdims=keepdims)\n",
      "/opt/conda/lib/python3.9/site-packages/numpy/lib/nanfunctions.py:1117: RuntimeWarning: Mean of empty slice\n",
      "  return np.nanmean(a, axis, out=out, keepdims=keepdims)\n",
      "/opt/conda/lib/python3.9/site-packages/numpy/lib/nanfunctions.py:1117: RuntimeWarning: Mean of empty slice\n",
      "  return np.nanmean(a, axis, out=out, keepdims=keepdims)\n",
      "/opt/conda/lib/python3.9/site-packages/numpy/lib/nanfunctions.py:1117: RuntimeWarning: Mean of empty slice\n",
      "  return np.nanmean(a, axis, out=out, keepdims=keepdims)\n",
      "/opt/conda/lib/python3.9/site-packages/numpy/lib/nanfunctions.py:1117: RuntimeWarning: Mean of empty slice\n",
      "  return np.nanmean(a, axis, out=out, keepdims=keepdims)\n",
      "/opt/conda/lib/python3.9/site-packages/numpy/lib/nanfunctions.py:1117: RuntimeWarning: Mean of empty slice\n",
      "  return np.nanmean(a, axis, out=out, keepdims=keepdims)\n",
      "/opt/conda/lib/python3.9/site-packages/numpy/lib/nanfunctions.py:1117: RuntimeWarning: Mean of empty slice\n",
      "  return np.nanmean(a, axis, out=out, keepdims=keepdims)\n",
      "/opt/conda/lib/python3.9/site-packages/numpy/lib/nanfunctions.py:1117: RuntimeWarning: Mean of empty slice\n",
      "  return np.nanmean(a, axis, out=out, keepdims=keepdims)\n",
      "/opt/conda/lib/python3.9/site-packages/numpy/lib/nanfunctions.py:1117: RuntimeWarning: Mean of empty slice\n",
      "  return np.nanmean(a, axis, out=out, keepdims=keepdims)\n",
      "/opt/conda/lib/python3.9/site-packages/numpy/lib/nanfunctions.py:1117: RuntimeWarning: Mean of empty slice\n",
      "  return np.nanmean(a, axis, out=out, keepdims=keepdims)\n",
      "/opt/conda/lib/python3.9/site-packages/numpy/lib/nanfunctions.py:1117: RuntimeWarning: Mean of empty slice\n",
      "  return np.nanmean(a, axis, out=out, keepdims=keepdims)\n",
      "/opt/conda/lib/python3.9/site-packages/numpy/lib/nanfunctions.py:1117: RuntimeWarning: Mean of empty slice\n",
      "  return np.nanmean(a, axis, out=out, keepdims=keepdims)\n",
      "/opt/conda/lib/python3.9/site-packages/numpy/lib/nanfunctions.py:1117: RuntimeWarning: Mean of empty slice\n",
      "  return np.nanmean(a, axis, out=out, keepdims=keepdims)\n",
      "/opt/conda/lib/python3.9/site-packages/numpy/lib/nanfunctions.py:1117: RuntimeWarning: Mean of empty slice\n",
      "  return np.nanmean(a, axis, out=out, keepdims=keepdims)\n",
      "/opt/conda/lib/python3.9/site-packages/numpy/lib/nanfunctions.py:1117: RuntimeWarning: Mean of empty slice\n",
      "  return np.nanmean(a, axis, out=out, keepdims=keepdims)\n",
      "/opt/conda/lib/python3.9/site-packages/numpy/lib/nanfunctions.py:1117: RuntimeWarning: Mean of empty slice\n",
      "  return np.nanmean(a, axis, out=out, keepdims=keepdims)\n",
      "/opt/conda/lib/python3.9/site-packages/numpy/lib/nanfunctions.py:1117: RuntimeWarning: Mean of empty slice\n",
      "  return np.nanmean(a, axis, out=out, keepdims=keepdims)\n",
      "/opt/conda/lib/python3.9/site-packages/numpy/lib/nanfunctions.py:1117: RuntimeWarning: Mean of empty slice\n",
      "  return np.nanmean(a, axis, out=out, keepdims=keepdims)\n",
      "/opt/conda/lib/python3.9/site-packages/numpy/lib/nanfunctions.py:1117: RuntimeWarning: Mean of empty slice\n",
      "  return np.nanmean(a, axis, out=out, keepdims=keepdims)\n",
      "/opt/conda/lib/python3.9/site-packages/numpy/lib/nanfunctions.py:1117: RuntimeWarning: Mean of empty slice\n",
      "  return np.nanmean(a, axis, out=out, keepdims=keepdims)\n",
      "/opt/conda/lib/python3.9/site-packages/numpy/lib/nanfunctions.py:1117: RuntimeWarning: Mean of empty slice\n",
      "  return np.nanmean(a, axis, out=out, keepdims=keepdims)\n",
      "/opt/conda/lib/python3.9/site-packages/numpy/lib/nanfunctions.py:1117: RuntimeWarning: Mean of empty slice\n",
      "  return np.nanmean(a, axis, out=out, keepdims=keepdims)\n",
      "/opt/conda/lib/python3.9/site-packages/numpy/lib/nanfunctions.py:1117: RuntimeWarning: Mean of empty slice\n",
      "  return np.nanmean(a, axis, out=out, keepdims=keepdims)\n",
      "/opt/conda/lib/python3.9/site-packages/numpy/lib/nanfunctions.py:1117: RuntimeWarning: Mean of empty slice\n",
      "  return np.nanmean(a, axis, out=out, keepdims=keepdims)\n",
      "/opt/conda/lib/python3.9/site-packages/numpy/lib/nanfunctions.py:1117: RuntimeWarning: Mean of empty slice\n",
      "  return np.nanmean(a, axis, out=out, keepdims=keepdims)\n",
      "/opt/conda/lib/python3.9/site-packages/numpy/lib/nanfunctions.py:1117: RuntimeWarning: Mean of empty slice\n",
      "  return np.nanmean(a, axis, out=out, keepdims=keepdims)\n",
      "/opt/conda/lib/python3.9/site-packages/numpy/lib/nanfunctions.py:1117: RuntimeWarning: Mean of empty slice\n",
      "  return np.nanmean(a, axis, out=out, keepdims=keepdims)\n",
      "/opt/conda/lib/python3.9/site-packages/numpy/lib/nanfunctions.py:1117: RuntimeWarning: Mean of empty slice\n",
      "  return np.nanmean(a, axis, out=out, keepdims=keepdims)\n",
      "/opt/conda/lib/python3.9/site-packages/numpy/lib/nanfunctions.py:1117: RuntimeWarning: Mean of empty slice\n",
      "  return np.nanmean(a, axis, out=out, keepdims=keepdims)\n",
      "/opt/conda/lib/python3.9/site-packages/numpy/lib/nanfunctions.py:1117: RuntimeWarning: Mean of empty slice\n",
      "  return np.nanmean(a, axis, out=out, keepdims=keepdims)\n",
      "/opt/conda/lib/python3.9/site-packages/numpy/lib/nanfunctions.py:1117: RuntimeWarning: Mean of empty slice\n",
      "  return np.nanmean(a, axis, out=out, keepdims=keepdims)\n",
      "/opt/conda/lib/python3.9/site-packages/numpy/lib/nanfunctions.py:1117: RuntimeWarning: Mean of empty slice\n",
      "  return np.nanmean(a, axis, out=out, keepdims=keepdims)\n",
      "/opt/conda/lib/python3.9/site-packages/numpy/lib/nanfunctions.py:1117: RuntimeWarning: Mean of empty slice\n",
      "  return np.nanmean(a, axis, out=out, keepdims=keepdims)\n",
      "/opt/conda/lib/python3.9/site-packages/numpy/lib/nanfunctions.py:1117: RuntimeWarning: Mean of empty slice\n",
      "  return np.nanmean(a, axis, out=out, keepdims=keepdims)\n",
      "/opt/conda/lib/python3.9/site-packages/numpy/lib/nanfunctions.py:1117: RuntimeWarning: Mean of empty slice\n",
      "  return np.nanmean(a, axis, out=out, keepdims=keepdims)\n",
      "/opt/conda/lib/python3.9/site-packages/numpy/lib/nanfunctions.py:1117: RuntimeWarning: Mean of empty slice\n",
      "  return np.nanmean(a, axis, out=out, keepdims=keepdims)\n",
      "/opt/conda/lib/python3.9/site-packages/numpy/lib/nanfunctions.py:1117: RuntimeWarning: Mean of empty slice\n",
      "  return np.nanmean(a, axis, out=out, keepdims=keepdims)\n",
      "/opt/conda/lib/python3.9/site-packages/numpy/lib/nanfunctions.py:1117: RuntimeWarning: Mean of empty slice\n",
      "  return np.nanmean(a, axis, out=out, keepdims=keepdims)\n",
      "/opt/conda/lib/python3.9/site-packages/numpy/lib/nanfunctions.py:1117: RuntimeWarning: Mean of empty slice\n",
      "  return np.nanmean(a, axis, out=out, keepdims=keepdims)\n",
      "/opt/conda/lib/python3.9/site-packages/numpy/lib/nanfunctions.py:1117: RuntimeWarning: Mean of empty slice\n",
      "  return np.nanmean(a, axis, out=out, keepdims=keepdims)\n",
      "/opt/conda/lib/python3.9/site-packages/numpy/lib/nanfunctions.py:1117: RuntimeWarning: Mean of empty slice\n",
      "  return np.nanmean(a, axis, out=out, keepdims=keepdims)\n",
      "/opt/conda/lib/python3.9/site-packages/numpy/lib/nanfunctions.py:1117: RuntimeWarning: Mean of empty slice\n",
      "  return np.nanmean(a, axis, out=out, keepdims=keepdims)\n",
      "/opt/conda/lib/python3.9/site-packages/numpy/lib/nanfunctions.py:1117: RuntimeWarning: Mean of empty slice\n",
      "  return np.nanmean(a, axis, out=out, keepdims=keepdims)\n",
      "/opt/conda/lib/python3.9/site-packages/numpy/lib/nanfunctions.py:1117: RuntimeWarning: Mean of empty slice\n",
      "  return np.nanmean(a, axis, out=out, keepdims=keepdims)\n",
      "/opt/conda/lib/python3.9/site-packages/numpy/lib/nanfunctions.py:1117: RuntimeWarning: Mean of empty slice\n",
      "  return np.nanmean(a, axis, out=out, keepdims=keepdims)\n",
      "/opt/conda/lib/python3.9/site-packages/numpy/lib/nanfunctions.py:1117: RuntimeWarning: Mean of empty slice\n",
      "  return np.nanmean(a, axis, out=out, keepdims=keepdims)\n",
      "/opt/conda/lib/python3.9/site-packages/numpy/lib/nanfunctions.py:1117: RuntimeWarning: Mean of empty slice\n",
      "  return np.nanmean(a, axis, out=out, keepdims=keepdims)\n",
      "/opt/conda/lib/python3.9/site-packages/numpy/lib/nanfunctions.py:1117: RuntimeWarning: Mean of empty slice\n",
      "  return np.nanmean(a, axis, out=out, keepdims=keepdims)\n",
      "/opt/conda/lib/python3.9/site-packages/numpy/lib/nanfunctions.py:1117: RuntimeWarning: Mean of empty slice\n",
      "  return np.nanmean(a, axis, out=out, keepdims=keepdims)\n",
      "/opt/conda/lib/python3.9/site-packages/numpy/lib/nanfunctions.py:1117: RuntimeWarning: Mean of empty slice\n",
      "  return np.nanmean(a, axis, out=out, keepdims=keepdims)\n",
      "/opt/conda/lib/python3.9/site-packages/numpy/lib/nanfunctions.py:1117: RuntimeWarning: Mean of empty slice\n",
      "  return np.nanmean(a, axis, out=out, keepdims=keepdims)\n",
      "/opt/conda/lib/python3.9/site-packages/numpy/lib/nanfunctions.py:1117: RuntimeWarning: Mean of empty slice\n",
      "  return np.nanmean(a, axis, out=out, keepdims=keepdims)\n",
      "/opt/conda/lib/python3.9/site-packages/numpy/lib/nanfunctions.py:1117: RuntimeWarning: Mean of empty slice\n",
      "  return np.nanmean(a, axis, out=out, keepdims=keepdims)\n",
      "/opt/conda/lib/python3.9/site-packages/numpy/lib/nanfunctions.py:1117: RuntimeWarning: Mean of empty slice\n",
      "  return np.nanmean(a, axis, out=out, keepdims=keepdims)\n",
      "/opt/conda/lib/python3.9/site-packages/numpy/lib/nanfunctions.py:1117: RuntimeWarning: Mean of empty slice\n",
      "  return np.nanmean(a, axis, out=out, keepdims=keepdims)\n",
      "/opt/conda/lib/python3.9/site-packages/numpy/lib/nanfunctions.py:1117: RuntimeWarning: Mean of empty slice\n",
      "  return np.nanmean(a, axis, out=out, keepdims=keepdims)\n",
      "/opt/conda/lib/python3.9/site-packages/numpy/lib/nanfunctions.py:1117: RuntimeWarning: Mean of empty slice\n",
      "  return np.nanmean(a, axis, out=out, keepdims=keepdims)\n",
      "/opt/conda/lib/python3.9/site-packages/numpy/lib/nanfunctions.py:1117: RuntimeWarning: Mean of empty slice\n",
      "  return np.nanmean(a, axis, out=out, keepdims=keepdims)\n",
      "/opt/conda/lib/python3.9/site-packages/numpy/lib/nanfunctions.py:1117: RuntimeWarning: Mean of empty slice\n",
      "  return np.nanmean(a, axis, out=out, keepdims=keepdims)\n",
      "/opt/conda/lib/python3.9/site-packages/numpy/lib/nanfunctions.py:1117: RuntimeWarning: Mean of empty slice\n",
      "  return np.nanmean(a, axis, out=out, keepdims=keepdims)\n",
      "/opt/conda/lib/python3.9/site-packages/numpy/lib/nanfunctions.py:1117: RuntimeWarning: Mean of empty slice\n",
      "  return np.nanmean(a, axis, out=out, keepdims=keepdims)\n",
      "/opt/conda/lib/python3.9/site-packages/numpy/lib/nanfunctions.py:1117: RuntimeWarning: Mean of empty slice\n",
      "  return np.nanmean(a, axis, out=out, keepdims=keepdims)\n",
      "/opt/conda/lib/python3.9/site-packages/numpy/lib/nanfunctions.py:1117: RuntimeWarning: Mean of empty slice\n",
      "  return np.nanmean(a, axis, out=out, keepdims=keepdims)\n",
      "/opt/conda/lib/python3.9/site-packages/numpy/lib/nanfunctions.py:1117: RuntimeWarning: Mean of empty slice\n",
      "  return np.nanmean(a, axis, out=out, keepdims=keepdims)\n",
      "/opt/conda/lib/python3.9/site-packages/numpy/lib/nanfunctions.py:1117: RuntimeWarning: Mean of empty slice\n",
      "  return np.nanmean(a, axis, out=out, keepdims=keepdims)\n",
      "/opt/conda/lib/python3.9/site-packages/numpy/lib/nanfunctions.py:1117: RuntimeWarning: Mean of empty slice\n",
      "  return np.nanmean(a, axis, out=out, keepdims=keepdims)\n",
      "/opt/conda/lib/python3.9/site-packages/numpy/lib/nanfunctions.py:1117: RuntimeWarning: Mean of empty slice\n",
      "  return np.nanmean(a, axis, out=out, keepdims=keepdims)\n",
      "/opt/conda/lib/python3.9/site-packages/numpy/lib/nanfunctions.py:1117: RuntimeWarning: Mean of empty slice\n",
      "  return np.nanmean(a, axis, out=out, keepdims=keepdims)\n",
      "/opt/conda/lib/python3.9/site-packages/numpy/lib/nanfunctions.py:1117: RuntimeWarning: Mean of empty slice\n",
      "  return np.nanmean(a, axis, out=out, keepdims=keepdims)\n",
      "/opt/conda/lib/python3.9/site-packages/numpy/lib/nanfunctions.py:1117: RuntimeWarning: Mean of empty slice\n",
      "  return np.nanmean(a, axis, out=out, keepdims=keepdims)\n",
      "/opt/conda/lib/python3.9/site-packages/numpy/lib/nanfunctions.py:1117: RuntimeWarning: Mean of empty slice\n",
      "  return np.nanmean(a, axis, out=out, keepdims=keepdims)\n",
      "/opt/conda/lib/python3.9/site-packages/numpy/lib/nanfunctions.py:1117: RuntimeWarning: Mean of empty slice\n",
      "  return np.nanmean(a, axis, out=out, keepdims=keepdims)\n",
      "/opt/conda/lib/python3.9/site-packages/numpy/lib/nanfunctions.py:1117: RuntimeWarning: Mean of empty slice\n",
      "  return np.nanmean(a, axis, out=out, keepdims=keepdims)\n",
      "/opt/conda/lib/python3.9/site-packages/numpy/lib/nanfunctions.py:1117: RuntimeWarning: Mean of empty slice\n",
      "  return np.nanmean(a, axis, out=out, keepdims=keepdims)\n",
      "/opt/conda/lib/python3.9/site-packages/numpy/lib/nanfunctions.py:1117: RuntimeWarning: Mean of empty slice\n",
      "  return np.nanmean(a, axis, out=out, keepdims=keepdims)\n",
      "/opt/conda/lib/python3.9/site-packages/numpy/lib/nanfunctions.py:1117: RuntimeWarning: Mean of empty slice\n",
      "  return np.nanmean(a, axis, out=out, keepdims=keepdims)\n",
      "/opt/conda/lib/python3.9/site-packages/numpy/lib/nanfunctions.py:1117: RuntimeWarning: Mean of empty slice\n",
      "  return np.nanmean(a, axis, out=out, keepdims=keepdims)\n",
      "/opt/conda/lib/python3.9/site-packages/numpy/lib/nanfunctions.py:1117: RuntimeWarning: Mean of empty slice\n",
      "  return np.nanmean(a, axis, out=out, keepdims=keepdims)\n",
      "/opt/conda/lib/python3.9/site-packages/numpy/lib/nanfunctions.py:1117: RuntimeWarning: Mean of empty slice\n",
      "  return np.nanmean(a, axis, out=out, keepdims=keepdims)\n",
      "/opt/conda/lib/python3.9/site-packages/numpy/lib/nanfunctions.py:1117: RuntimeWarning: Mean of empty slice\n",
      "  return np.nanmean(a, axis, out=out, keepdims=keepdims)\n",
      "/opt/conda/lib/python3.9/site-packages/numpy/lib/nanfunctions.py:1117: RuntimeWarning: Mean of empty slice\n",
      "  return np.nanmean(a, axis, out=out, keepdims=keepdims)\n",
      "/opt/conda/lib/python3.9/site-packages/numpy/lib/nanfunctions.py:1117: RuntimeWarning: Mean of empty slice\n",
      "  return np.nanmean(a, axis, out=out, keepdims=keepdims)\n",
      "/opt/conda/lib/python3.9/site-packages/numpy/lib/nanfunctions.py:1117: RuntimeWarning: Mean of empty slice\n",
      "  return np.nanmean(a, axis, out=out, keepdims=keepdims)\n",
      "/opt/conda/lib/python3.9/site-packages/numpy/lib/nanfunctions.py:1117: RuntimeWarning: Mean of empty slice\n",
      "  return np.nanmean(a, axis, out=out, keepdims=keepdims)\n",
      "/opt/conda/lib/python3.9/site-packages/numpy/lib/nanfunctions.py:1117: RuntimeWarning: Mean of empty slice\n",
      "  return np.nanmean(a, axis, out=out, keepdims=keepdims)\n",
      "/opt/conda/lib/python3.9/site-packages/numpy/lib/nanfunctions.py:1117: RuntimeWarning: Mean of empty slice\n",
      "  return np.nanmean(a, axis, out=out, keepdims=keepdims)\n",
      "/opt/conda/lib/python3.9/site-packages/numpy/lib/nanfunctions.py:1117: RuntimeWarning: Mean of empty slice\n",
      "  return np.nanmean(a, axis, out=out, keepdims=keepdims)\n",
      "/opt/conda/lib/python3.9/site-packages/numpy/lib/nanfunctions.py:1117: RuntimeWarning: Mean of empty slice\n",
      "  return np.nanmean(a, axis, out=out, keepdims=keepdims)\n",
      "/opt/conda/lib/python3.9/site-packages/numpy/lib/nanfunctions.py:1117: RuntimeWarning: Mean of empty slice\n",
      "  return np.nanmean(a, axis, out=out, keepdims=keepdims)\n",
      "/opt/conda/lib/python3.9/site-packages/numpy/lib/nanfunctions.py:1117: RuntimeWarning: Mean of empty slice\n",
      "  return np.nanmean(a, axis, out=out, keepdims=keepdims)\n",
      "/opt/conda/lib/python3.9/site-packages/numpy/lib/nanfunctions.py:1117: RuntimeWarning: Mean of empty slice\n",
      "  return np.nanmean(a, axis, out=out, keepdims=keepdims)\n",
      "/opt/conda/lib/python3.9/site-packages/numpy/lib/nanfunctions.py:1117: RuntimeWarning: Mean of empty slice\n",
      "  return np.nanmean(a, axis, out=out, keepdims=keepdims)\n",
      "/opt/conda/lib/python3.9/site-packages/numpy/lib/nanfunctions.py:1117: RuntimeWarning: Mean of empty slice\n",
      "  return np.nanmean(a, axis, out=out, keepdims=keepdims)\n",
      "/opt/conda/lib/python3.9/site-packages/numpy/lib/nanfunctions.py:1117: RuntimeWarning: Mean of empty slice\n",
      "  return np.nanmean(a, axis, out=out, keepdims=keepdims)\n",
      "/opt/conda/lib/python3.9/site-packages/numpy/lib/nanfunctions.py:1117: RuntimeWarning: Mean of empty slice\n",
      "  return np.nanmean(a, axis, out=out, keepdims=keepdims)\n",
      "/opt/conda/lib/python3.9/site-packages/numpy/lib/nanfunctions.py:1117: RuntimeWarning: Mean of empty slice\n",
      "  return np.nanmean(a, axis, out=out, keepdims=keepdims)\n",
      "/opt/conda/lib/python3.9/site-packages/numpy/lib/nanfunctions.py:1117: RuntimeWarning: Mean of empty slice\n",
      "  return np.nanmean(a, axis, out=out, keepdims=keepdims)\n",
      "/opt/conda/lib/python3.9/site-packages/numpy/lib/nanfunctions.py:1117: RuntimeWarning: Mean of empty slice\n",
      "  return np.nanmean(a, axis, out=out, keepdims=keepdims)\n",
      "/opt/conda/lib/python3.9/site-packages/numpy/lib/nanfunctions.py:1117: RuntimeWarning: Mean of empty slice\n",
      "  return np.nanmean(a, axis, out=out, keepdims=keepdims)\n",
      "/opt/conda/lib/python3.9/site-packages/numpy/lib/nanfunctions.py:1117: RuntimeWarning: Mean of empty slice\n",
      "  return np.nanmean(a, axis, out=out, keepdims=keepdims)\n",
      "/opt/conda/lib/python3.9/site-packages/numpy/lib/nanfunctions.py:1117: RuntimeWarning: Mean of empty slice\n",
      "  return np.nanmean(a, axis, out=out, keepdims=keepdims)\n",
      "/opt/conda/lib/python3.9/site-packages/numpy/lib/nanfunctions.py:1117: RuntimeWarning: Mean of empty slice\n",
      "  return np.nanmean(a, axis, out=out, keepdims=keepdims)\n",
      "/opt/conda/lib/python3.9/site-packages/numpy/lib/nanfunctions.py:1117: RuntimeWarning: Mean of empty slice\n",
      "  return np.nanmean(a, axis, out=out, keepdims=keepdims)\n",
      "/opt/conda/lib/python3.9/site-packages/numpy/lib/nanfunctions.py:1117: RuntimeWarning: Mean of empty slice\n",
      "  return np.nanmean(a, axis, out=out, keepdims=keepdims)\n",
      "/opt/conda/lib/python3.9/site-packages/numpy/lib/nanfunctions.py:1117: RuntimeWarning: Mean of empty slice\n",
      "  return np.nanmean(a, axis, out=out, keepdims=keepdims)\n",
      "/opt/conda/lib/python3.9/site-packages/numpy/lib/nanfunctions.py:1117: RuntimeWarning: Mean of empty slice\n",
      "  return np.nanmean(a, axis, out=out, keepdims=keepdims)\n",
      "/opt/conda/lib/python3.9/site-packages/numpy/lib/nanfunctions.py:1117: RuntimeWarning: Mean of empty slice\n",
      "  return np.nanmean(a, axis, out=out, keepdims=keepdims)\n",
      "/opt/conda/lib/python3.9/site-packages/numpy/lib/nanfunctions.py:1117: RuntimeWarning: Mean of empty slice\n",
      "  return np.nanmean(a, axis, out=out, keepdims=keepdims)\n",
      "/opt/conda/lib/python3.9/site-packages/numpy/lib/nanfunctions.py:1117: RuntimeWarning: Mean of empty slice\n",
      "  return np.nanmean(a, axis, out=out, keepdims=keepdims)\n",
      "/opt/conda/lib/python3.9/site-packages/numpy/lib/nanfunctions.py:1117: RuntimeWarning: Mean of empty slice\n",
      "  return np.nanmean(a, axis, out=out, keepdims=keepdims)\n",
      "/opt/conda/lib/python3.9/site-packages/numpy/lib/nanfunctions.py:1117: RuntimeWarning: Mean of empty slice\n",
      "  return np.nanmean(a, axis, out=out, keepdims=keepdims)\n",
      "/opt/conda/lib/python3.9/site-packages/numpy/lib/nanfunctions.py:1117: RuntimeWarning: Mean of empty slice\n",
      "  return np.nanmean(a, axis, out=out, keepdims=keepdims)\n",
      "/opt/conda/lib/python3.9/site-packages/numpy/lib/nanfunctions.py:1117: RuntimeWarning: Mean of empty slice\n",
      "  return np.nanmean(a, axis, out=out, keepdims=keepdims)\n",
      "/opt/conda/lib/python3.9/site-packages/numpy/lib/nanfunctions.py:1117: RuntimeWarning: Mean of empty slice\n",
      "  return np.nanmean(a, axis, out=out, keepdims=keepdims)\n",
      "/opt/conda/lib/python3.9/site-packages/numpy/lib/nanfunctions.py:1117: RuntimeWarning: Mean of empty slice\n",
      "  return np.nanmean(a, axis, out=out, keepdims=keepdims)\n",
      "/opt/conda/lib/python3.9/site-packages/numpy/lib/nanfunctions.py:1117: RuntimeWarning: Mean of empty slice\n",
      "  return np.nanmean(a, axis, out=out, keepdims=keepdims)\n",
      "/opt/conda/lib/python3.9/site-packages/numpy/lib/nanfunctions.py:1117: RuntimeWarning: Mean of empty slice\n",
      "  return np.nanmean(a, axis, out=out, keepdims=keepdims)\n",
      "/opt/conda/lib/python3.9/site-packages/numpy/lib/nanfunctions.py:1117: RuntimeWarning: Mean of empty slice\n",
      "  return np.nanmean(a, axis, out=out, keepdims=keepdims)\n",
      "/opt/conda/lib/python3.9/site-packages/numpy/lib/nanfunctions.py:1117: RuntimeWarning: Mean of empty slice\n",
      "  return np.nanmean(a, axis, out=out, keepdims=keepdims)\n",
      "/opt/conda/lib/python3.9/site-packages/numpy/lib/nanfunctions.py:1117: RuntimeWarning: Mean of empty slice\n",
      "  return np.nanmean(a, axis, out=out, keepdims=keepdims)\n",
      "/opt/conda/lib/python3.9/site-packages/numpy/lib/nanfunctions.py:1117: RuntimeWarning: Mean of empty slice\n",
      "  return np.nanmean(a, axis, out=out, keepdims=keepdims)\n",
      "/opt/conda/lib/python3.9/site-packages/numpy/lib/nanfunctions.py:1117: RuntimeWarning: Mean of empty slice\n",
      "  return np.nanmean(a, axis, out=out, keepdims=keepdims)\n",
      "/opt/conda/lib/python3.9/site-packages/numpy/lib/nanfunctions.py:1117: RuntimeWarning: Mean of empty slice\n",
      "  return np.nanmean(a, axis, out=out, keepdims=keepdims)\n",
      "/opt/conda/lib/python3.9/site-packages/numpy/lib/nanfunctions.py:1117: RuntimeWarning: Mean of empty slice\n",
      "  return np.nanmean(a, axis, out=out, keepdims=keepdims)\n",
      "/opt/conda/lib/python3.9/site-packages/numpy/lib/nanfunctions.py:1117: RuntimeWarning: Mean of empty slice\n",
      "  return np.nanmean(a, axis, out=out, keepdims=keepdims)\n",
      "/opt/conda/lib/python3.9/site-packages/numpy/lib/nanfunctions.py:1117: RuntimeWarning: Mean of empty slice\n",
      "  return np.nanmean(a, axis, out=out, keepdims=keepdims)\n",
      "/opt/conda/lib/python3.9/site-packages/numpy/lib/nanfunctions.py:1117: RuntimeWarning: Mean of empty slice\n",
      "  return np.nanmean(a, axis, out=out, keepdims=keepdims)\n",
      "/opt/conda/lib/python3.9/site-packages/numpy/lib/nanfunctions.py:1117: RuntimeWarning: Mean of empty slice\n",
      "  return np.nanmean(a, axis, out=out, keepdims=keepdims)\n",
      "/opt/conda/lib/python3.9/site-packages/numpy/lib/nanfunctions.py:1117: RuntimeWarning: Mean of empty slice\n",
      "  return np.nanmean(a, axis, out=out, keepdims=keepdims)\n",
      "/opt/conda/lib/python3.9/site-packages/numpy/lib/nanfunctions.py:1117: RuntimeWarning: Mean of empty slice\n",
      "  return np.nanmean(a, axis, out=out, keepdims=keepdims)\n",
      "/opt/conda/lib/python3.9/site-packages/numpy/lib/nanfunctions.py:1117: RuntimeWarning: Mean of empty slice\n",
      "  return np.nanmean(a, axis, out=out, keepdims=keepdims)\n",
      "/opt/conda/lib/python3.9/site-packages/numpy/lib/nanfunctions.py:1117: RuntimeWarning: Mean of empty slice\n",
      "  return np.nanmean(a, axis, out=out, keepdims=keepdims)\n",
      "/opt/conda/lib/python3.9/site-packages/numpy/lib/nanfunctions.py:1117: RuntimeWarning: Mean of empty slice\n",
      "  return np.nanmean(a, axis, out=out, keepdims=keepdims)\n",
      "/opt/conda/lib/python3.9/site-packages/numpy/lib/nanfunctions.py:1117: RuntimeWarning: Mean of empty slice\n",
      "  return np.nanmean(a, axis, out=out, keepdims=keepdims)\n",
      "/opt/conda/lib/python3.9/site-packages/numpy/lib/nanfunctions.py:1117: RuntimeWarning: Mean of empty slice\n",
      "  return np.nanmean(a, axis, out=out, keepdims=keepdims)\n",
      "/opt/conda/lib/python3.9/site-packages/numpy/lib/nanfunctions.py:1117: RuntimeWarning: Mean of empty slice\n",
      "  return np.nanmean(a, axis, out=out, keepdims=keepdims)\n",
      "/opt/conda/lib/python3.9/site-packages/numpy/lib/nanfunctions.py:1117: RuntimeWarning: Mean of empty slice\n",
      "  return np.nanmean(a, axis, out=out, keepdims=keepdims)\n",
      "/opt/conda/lib/python3.9/site-packages/numpy/lib/nanfunctions.py:1117: RuntimeWarning: Mean of empty slice\n",
      "  return np.nanmean(a, axis, out=out, keepdims=keepdims)\n",
      "/opt/conda/lib/python3.9/site-packages/numpy/lib/nanfunctions.py:1117: RuntimeWarning: Mean of empty slice\n",
      "  return np.nanmean(a, axis, out=out, keepdims=keepdims)\n",
      "/opt/conda/lib/python3.9/site-packages/numpy/lib/nanfunctions.py:1117: RuntimeWarning: Mean of empty slice\n",
      "  return np.nanmean(a, axis, out=out, keepdims=keepdims)\n",
      "/opt/conda/lib/python3.9/site-packages/numpy/lib/nanfunctions.py:1117: RuntimeWarning: Mean of empty slice\n",
      "  return np.nanmean(a, axis, out=out, keepdims=keepdims)\n",
      "/opt/conda/lib/python3.9/site-packages/numpy/lib/nanfunctions.py:1117: RuntimeWarning: Mean of empty slice\n",
      "  return np.nanmean(a, axis, out=out, keepdims=keepdims)\n",
      "/opt/conda/lib/python3.9/site-packages/numpy/lib/nanfunctions.py:1117: RuntimeWarning: Mean of empty slice\n",
      "  return np.nanmean(a, axis, out=out, keepdims=keepdims)\n",
      "/opt/conda/lib/python3.9/site-packages/numpy/lib/nanfunctions.py:1117: RuntimeWarning: Mean of empty slice\n",
      "  return np.nanmean(a, axis, out=out, keepdims=keepdims)\n",
      "/opt/conda/lib/python3.9/site-packages/numpy/lib/nanfunctions.py:1117: RuntimeWarning: Mean of empty slice\n",
      "  return np.nanmean(a, axis, out=out, keepdims=keepdims)\n",
      "/opt/conda/lib/python3.9/site-packages/numpy/lib/nanfunctions.py:1117: RuntimeWarning: Mean of empty slice\n",
      "  return np.nanmean(a, axis, out=out, keepdims=keepdims)\n",
      "/opt/conda/lib/python3.9/site-packages/numpy/lib/nanfunctions.py:1117: RuntimeWarning: Mean of empty slice\n",
      "  return np.nanmean(a, axis, out=out, keepdims=keepdims)\n",
      "/opt/conda/lib/python3.9/site-packages/numpy/lib/nanfunctions.py:1117: RuntimeWarning: Mean of empty slice\n",
      "  return np.nanmean(a, axis, out=out, keepdims=keepdims)\n",
      "/opt/conda/lib/python3.9/site-packages/numpy/lib/nanfunctions.py:1117: RuntimeWarning: Mean of empty slice\n",
      "  return np.nanmean(a, axis, out=out, keepdims=keepdims)\n",
      "/opt/conda/lib/python3.9/site-packages/numpy/lib/nanfunctions.py:1117: RuntimeWarning: Mean of empty slice\n",
      "  return np.nanmean(a, axis, out=out, keepdims=keepdims)\n",
      "/opt/conda/lib/python3.9/site-packages/numpy/lib/nanfunctions.py:1117: RuntimeWarning: Mean of empty slice\n",
      "  return np.nanmean(a, axis, out=out, keepdims=keepdims)\n",
      "/opt/conda/lib/python3.9/site-packages/numpy/lib/nanfunctions.py:1117: RuntimeWarning: Mean of empty slice\n",
      "  return np.nanmean(a, axis, out=out, keepdims=keepdims)\n",
      "/opt/conda/lib/python3.9/site-packages/numpy/lib/nanfunctions.py:1117: RuntimeWarning: Mean of empty slice\n",
      "  return np.nanmean(a, axis, out=out, keepdims=keepdims)\n",
      "/opt/conda/lib/python3.9/site-packages/numpy/lib/nanfunctions.py:1117: RuntimeWarning: Mean of empty slice\n",
      "  return np.nanmean(a, axis, out=out, keepdims=keepdims)\n",
      "/opt/conda/lib/python3.9/site-packages/numpy/lib/nanfunctions.py:1117: RuntimeWarning: Mean of empty slice\n",
      "  return np.nanmean(a, axis, out=out, keepdims=keepdims)\n",
      "/opt/conda/lib/python3.9/site-packages/numpy/lib/nanfunctions.py:1117: RuntimeWarning: Mean of empty slice\n",
      "  return np.nanmean(a, axis, out=out, keepdims=keepdims)\n",
      "/opt/conda/lib/python3.9/site-packages/numpy/lib/nanfunctions.py:1117: RuntimeWarning: Mean of empty slice\n",
      "  return np.nanmean(a, axis, out=out, keepdims=keepdims)\n",
      "/opt/conda/lib/python3.9/site-packages/numpy/lib/nanfunctions.py:1117: RuntimeWarning: Mean of empty slice\n",
      "  return np.nanmean(a, axis, out=out, keepdims=keepdims)\n",
      "/opt/conda/lib/python3.9/site-packages/numpy/lib/nanfunctions.py:1117: RuntimeWarning: Mean of empty slice\n",
      "  return np.nanmean(a, axis, out=out, keepdims=keepdims)\n",
      "/opt/conda/lib/python3.9/site-packages/numpy/lib/nanfunctions.py:1117: RuntimeWarning: Mean of empty slice\n",
      "  return np.nanmean(a, axis, out=out, keepdims=keepdims)\n",
      "/opt/conda/lib/python3.9/site-packages/numpy/lib/nanfunctions.py:1117: RuntimeWarning: Mean of empty slice\n",
      "  return np.nanmean(a, axis, out=out, keepdims=keepdims)\n",
      "/opt/conda/lib/python3.9/site-packages/numpy/lib/nanfunctions.py:1117: RuntimeWarning: Mean of empty slice\n",
      "  return np.nanmean(a, axis, out=out, keepdims=keepdims)\n"
     ]
    },
    {
     "data": {
      "image/png": "[encoded data removed]",
      "text/plain": [
       "<Figure size 432x288 with 1 Axes>"
      ]
     },
     "metadata": {
      "needs_background": "light"
     },
     "output_type": "display_data"
    }
   ],
   "source": [
    "#print(df['ceiling_height'].unique())\n",
    "df['ceiling_height'] = df.groupby(['locality_name', 'floors_total'])['ceiling_height'].apply(lambda x: x.fillna(x.median()))\n",
    "df['ceiling_height'].fillna(df['ceiling_height'].median(), inplace=True)\n",
    "ax = df['ceiling_height'].hist( bins=10, range=(2,3), grid=True) \n",
    "\n",
    "#Значяения потолков не которые введены не корректно например 8 или 100  (Можно предположить что 8 метров это какое то помещение не жилое )\n",
    "# А не которые значения просто введены не корректны перепутаны десятичные и и целые части чисел\n",
    "# Основное распределение потолков находится в диапозоне 2.7 м "
   ]
  },
  {
   "cell_type": "markdown",
   "metadata": {},
   "source": [
    "Значяения потолков не которые введены (например 8 или 100)  (Можно предположить что 8 метров это какое то помещение не жилое )\n",
    "А не которые значения просто введены не корректны перепутаны десятичные и и целые части чисел\n",
    "Основное распределение потолков находится в диапозоне 2.7 м "
   ]
  },
  {
   "cell_type": "markdown",
   "metadata": {},
   "source": [
    "### Посчитайте и добавьте в таблицу новые столбцы"
   ]
  },
  {
   "cell_type": "markdown",
   "metadata": {},
   "source": [
    "В таблицу добавлены новые столбцы (ценна  за метр, день недели, месяц, год)"
   ]
  },
  {
   "cell_type": "code",
   "execution_count": 7,
   "metadata": {},
   "outputs": [],
   "source": [
    "df['cost_area'] = (df['last_price']/ df['total_area']).astype(int)\n",
    "df['cost_area'].head()\n",
    "df['day_publ'] = df['first_day_exposition'].dt.weekday \n",
    "df['mon_publ'] = df['first_day_exposition'].dt.month \n",
    "df['year_publ'] = df['first_day_exposition'].dt.year\n",
    "#print(df.head(10))"
   ]
  },
  {
   "cell_type": "markdown",
   "metadata": {},
   "source": [
    "Добавлин стобец категории нахождения квартиры,  удаленность дома от центра"
   ]
  },
  {
   "cell_type": "code",
   "execution_count": 8,
   "metadata": {},
   "outputs": [
    {
     "name": "stdout",
     "output_type": "stream",
     "text": [
      "   total_images  last_price  total_area first_day_exposition  rooms  \\\n",
      "0            20    13000000      108.00           2019-03-07      3   \n",
      "1             7     3350000       40.40           2018-12-04      1   \n",
      "2            10     5196000       56.00           2015-08-20      2   \n",
      "3             0    64900000      159.00           2015-07-24      3   \n",
      "4             2    10000000      100.00           2018-06-19      2   \n",
      "5            10     2890000       30.40           2018-09-10      1   \n",
      "6             6     3700000       37.30           2017-11-02      1   \n",
      "7             5     7915000       71.60           2019-04-18      2   \n",
      "8            20     2900000       33.16           2018-05-23      1   \n",
      "9            18     5400000       61.00           2017-02-26      3   \n",
      "\n",
      "   ceiling_height  floors_total  living_area  floor  is_apartment  studio  \\\n",
      "0            2.70            16    51.000000      8         False   False   \n",
      "1            2.65            11    18.600000      1         False   False   \n",
      "2            2.60             5    34.300000      4         False   False   \n",
      "3            2.60            14   518.731147      9         False   False   \n",
      "4            3.03            14    32.000000     13         False   False   \n",
      "5            2.65            12    14.400000      5         False   False   \n",
      "6            2.60            26    10.600000      6         False   False   \n",
      "7            2.75            24   233.592139     22         False   False   \n",
      "8            2.65            27    15.430000     26         False   False   \n",
      "9            2.50             9    43.600000      7         False   False   \n",
      "\n",
      "   open_plan  kitchen_area  balcony              locality_name  \\\n",
      "0      False     25.000000        0            санкт-петербург   \n",
      "1      False     11.000000        2             поселок шушары   \n",
      "2      False      8.300000        0            санкт-петербург   \n",
      "3      False     48.736229        0            санкт-петербург   \n",
      "4      False     41.000000        0            санкт-петербург   \n",
      "5      False      9.100000        0  городской поселок янино-1   \n",
      "6      False     14.400000        1          поселок парголово   \n",
      "7      False     18.900000        2            санкт-петербург   \n",
      "8      False      8.810000        0             поселок мурино   \n",
      "9      False      6.500000        2            санкт-петербург   \n",
      "\n",
      "   airports_nearest  cityCenters_nearest  parks_around3000  parks_nearest  \\\n",
      "0           18863.0                16028                 1          482.0   \n",
      "1           12817.0                18603                 0            NaN   \n",
      "2           21741.0                13933                 1           90.0   \n",
      "3           28098.0                 6800                 2           84.0   \n",
      "4           31856.0                 8098                 2          112.0   \n",
      "5               NaN             10000000                 0            NaN   \n",
      "6           52996.0                19143                 0            NaN   \n",
      "7           23982.0                11634                 0            NaN   \n",
      "8               NaN             10000000                 0            NaN   \n",
      "9           50898.0                15008                 0            NaN   \n",
      "\n",
      "   ponds_around3000  ponds_nearest  days_exposition  cityCenters_nearest_km  \\\n",
      "0                 2            755              NaN                  16.028   \n",
      "1                 0       10000000             81.0                  18.603   \n",
      "2                 2            574            558.0                  13.933   \n",
      "3                 3            234            424.0                   6.800   \n",
      "4                 1             48            121.0                   8.098   \n",
      "5                 0       10000000             55.0               10000.000   \n",
      "6                 0       10000000            155.0                  19.143   \n",
      "7                 0       10000000              NaN                  11.634   \n",
      "8                 0       10000000            189.0               10000.000   \n",
      "9                 0       10000000            289.0                  15.008   \n",
      "\n",
      "   cost_area  day_publ  mon_publ  year_publ floor_categ  \n",
      "0     120370         3         3       2019      другой  \n",
      "1      82920         1        12       2018      первый  \n",
      "2      92785         3         8       2015      другой  \n",
      "3     408176         4         7       2015      другой  \n",
      "4     100000         1         6       2018      другой  \n",
      "5      95065         0         9       2018      другой  \n",
      "6      99195         3        11       2017      другой  \n",
      "7     110544         3         4       2019      другой  \n",
      "8      87454         2         5       2018      другой  \n",
      "9      88524         6         2       2017      другой  \n"
     ]
    }
   ],
   "source": [
    "df.loc[df['floor'] == 1, 'floor_categ'] = 'первый'\n",
    "df.loc[df['floor'] == df['floors_total'], 'floor_categ'] = 'последний'\n",
    "df.loc[df['floor_categ'].isna(), 'floor_categ'] = 'другой'\n",
    "print(df.head(10))\n",
    "df['cityCenters_nearest_km'] = df['cityCenters_nearest']/1000\n",
    "#print(df['cityCenters_nearest_km'].head(20))\n"
   ]
  },
  {
   "cell_type": "markdown",
   "metadata": {},
   "source": [
    "### Проведите исследовательский анализ данных"
   ]
  },
  {
   "cell_type": "markdown",
   "metadata": {},
   "source": [
    " Построена гистограмма и ящик с усами для понятия зависисости дней  до продажи "
   ]
  },
  {
   "cell_type": "code",
   "execution_count": 8,
   "metadata": {
    "scrolled": true
   },
   "outputs": [
    {
     "data": {
      "image/png": "[encoded data removed]",
      "text/plain": [
       "<Figure size 432x288 with 1 Axes>"
      ]
     },
     "metadata": {
      "needs_background": "light"
     },
     "output_type": "display_data"
    },
    {
     "data": {
      "text/plain": [
       "count    20394.000000\n",
       "mean       180.741395\n",
       "std        219.732782\n",
       "min          1.000000\n",
       "25%         45.000000\n",
       "50%         95.000000\n",
       "75%        231.000000\n",
       "max       1580.000000\n",
       "Name: days_exposition, dtype: float64"
      ]
     },
     "execution_count": 8,
     "metadata": {},
     "output_type": "execute_result"
    },
    {
     "data": {
      "image/png": "[encoded data removed]",
      "text/plain": [
       "<Figure size 432x288 with 1 Axes>"
      ]
     },
     "metadata": {
      "needs_background": "light"
     },
     "output_type": "display_data"
    }
   ],
   "source": [
    "df['days_exposition'].hist(bins=50)\n",
    "plt.show()\n",
    "df.boxplot('days_exposition')\n",
    "plt.ylim = (0,1000)\n",
    "df['days_exposition'].describe()\n",
    "# Более информативный являеться язик с усами "
   ]
  },
  {
   "cell_type": "markdown",
   "metadata": {},
   "source": [
    "В данном пункте находилась корреляция между значениями площади и цены"
   ]
  },
  {
   "cell_type": "code",
   "execution_count": 9,
   "metadata": {
    "scrolled": true
   },
   "outputs": [
    {
     "data": {
      "text/plain": [
       "0.3025705855894222"
      ]
     },
     "execution_count": 9,
     "metadata": {},
     "output_type": "execute_result"
    },
    {
     "data": {
      "image/png": "[encoded data removed]",
      "text/plain": [
       "<Figure size 432x288 with 1 Axes>"
      ]
     },
     "metadata": {
      "needs_background": "light"
     },
     "output_type": "display_data"
    }
   ],
   "source": [
    "# необходимо найти корреляцию параметров от цены\n",
    "piv_tab_tot_area = df.pivot_table(index = 'total_area', values = 'cost_area', aggfunc = ['median'])\n",
    "piv_tab_tot_area.columns = ['median']\n",
    "piv_tab_tot_area.plot(y = 'median', style = 'o', alpha = 0.2)\n",
    "plt.ylabel('Цена недвижимости, руб.')\n",
    "plt.xlabel('общая площадь кв. в м^2')\n",
    "df['total_area'].corr(df['cost_area'])"
   ]
  },
  {
   "cell_type": "markdown",
   "metadata": {},
   "source": [
    "Из графика видно что стоимсоть имеет зависимость от квадратов помещения, так же это подтверждает коэффициент корреляции но не сильный \n",
    "Коэффициент положительный значит если растет колличество квадратов растет и цена"
   ]
  },
  {
   "cell_type": "markdown",
   "metadata": {},
   "source": [
    "В данном пункте находилась корреляция между значениями колличество комнат и цены"
   ]
  },
  {
   "cell_type": "code",
   "execution_count": 10,
   "metadata": {},
   "outputs": [
    {
     "data": {
      "text/plain": [
       "0.055679781492603775"
      ]
     },
     "execution_count": 10,
     "metadata": {},
     "output_type": "execute_result"
    },
    {
     "data": {
      "image/png": "[encoded data removed]",
      "text/plain": [
       "<Figure size 432x288 with 1 Axes>"
      ]
     },
     "metadata": {
      "needs_background": "light"
     },
     "output_type": "display_data"
    }
   ],
   "source": [
    "piv_tab_room = df.pivot_table(index = 'rooms', values = 'cost_area', aggfunc = ['median','count'])\n",
    "piv_tab_room.columns = ['median','count']\n",
    "piv_tab_room.query('count > 50').plot(y = 'median', kind ='bar', ylim = (85000,110000))\n",
    "plt.ylabel('Цена недвижимости, руб.')\n",
    "plt.xlabel('Количество комнат')\n",
    "\n",
    "df['rooms'].corr(df['cost_area'])"
   ]
  },
  {
   "cell_type": "markdown",
   "metadata": {},
   "source": [
    "Из графика видно что если значение стремится к 3 то стоимость уменьшается"
   ]
  },
  {
   "cell_type": "markdown",
   "metadata": {},
   "source": [
    "В данном пункте находилась корреляция между значениями нахождением квартиры и цены"
   ]
  },
  {
   "cell_type": "code",
   "execution_count": 11,
   "metadata": {},
   "outputs": [
    {
     "data": {
      "text/plain": [
       "Text(0.5, 0, 'Этаж расположения кв. ')"
      ]
     },
     "execution_count": 11,
     "metadata": {},
     "output_type": "execute_result"
    },
    {
     "data": {
      "image/png": "[encoded data removed]",
      "text/plain": [
       "<Figure size 432x288 with 1 Axes>"
      ]
     },
     "metadata": {
      "needs_background": "light"
     },
     "output_type": "display_data"
    }
   ],
   "source": [
    "piv_tab_floor_cat = (df\n",
    "                     .query('floor_categ != \"другой\"')\n",
    "                     .pivot_table(index = 'floor_categ', values = 'cost_area', aggfunc = ['median'])\n",
    "                    )\n",
    "piv_tab_floor_cat.columns = ['median']\n",
    "piv_tab_floor_cat.plot(y = 'median')\n",
    "plt.ylabel('Цена недвижимости, руб.')\n",
    "plt.xlabel('Этаж расположения кв. ')\n",
    "\n",
    "#piv_tab_floor_cat.max()/piv_tab_floor_cat.min()"
   ]
  },
  {
   "cell_type": "markdown",
   "metadata": {},
   "source": [
    "Из данного графика видно что первый этажи стоят дешевле чем  квартиры на этажах выше "
   ]
  },
  {
   "cell_type": "markdown",
   "metadata": {},
   "source": [
    "Зависимость цены от центра "
   ]
  },
  {
   "cell_type": "code",
   "execution_count": 12,
   "metadata": {},
   "outputs": [
    {
     "data": {
      "text/plain": [
       "-0.40556622170837264"
      ]
     },
     "execution_count": 12,
     "metadata": {},
     "output_type": "execute_result"
    },
    {
     "data": {
      "image/png": "[encoded data removed]",
      "text/plain": [
       "<Figure size 432x288 with 1 Axes>"
      ]
     },
     "metadata": {
      "needs_background": "light"
     },
     "output_type": "display_data"
    }
   ],
   "source": [
    "df.plot(kind = 'scatter', y = 'cost_area', x = 'cityCenters_nearest_km', alpha = 0.2,xlim = (0,50))\n",
    "plt.ylabel('Цена недвижимости, руб.')\n",
    "plt.xlabel('расстояние от центра, км')\n",
    "df['cityCenters_nearest'].corr(df['cost_area'])"
   ]
  },
  {
   "cell_type": "markdown",
   "metadata": {},
   "source": [
    "График показывает на сколько зависит цена от удаленности от центра,  видно чем удаленней квартира, тем меньше цена и так же об этом говорит коэффициент корреляции "
   ]
  },
  {
   "cell_type": "markdown",
   "metadata": {},
   "source": [
    "Строиться зависимость  цены от дня продажи квартиры "
   ]
  },
  {
   "cell_type": "code",
   "execution_count": 13,
   "metadata": {},
   "outputs": [
    {
     "data": {
      "text/html": [
       "<div>\n",
       "<style scoped>\n",
       "    .dataframe tbody tr th:only-of-type {\n",
       "        vertical-align: middle;\n",
       "    }\n",
       "\n",
       "    .dataframe tbody tr th {\n",
       "        vertical-align: top;\n",
       "    }\n",
       "\n",
       "    .dataframe thead th {\n",
       "        text-align: right;\n",
       "    }\n",
       "</style>\n",
       "<table border=\"1\" class=\"dataframe\">\n",
       "  <thead>\n",
       "    <tr style=\"text-align: right;\">\n",
       "      <th></th>\n",
       "      <th>median</th>\n",
       "    </tr>\n",
       "    <tr>\n",
       "      <th>day_publ</th>\n",
       "      <th></th>\n",
       "    </tr>\n",
       "  </thead>\n",
       "  <tbody>\n",
       "    <tr>\n",
       "      <th>1</th>\n",
       "      <td>95567.0</td>\n",
       "    </tr>\n",
       "    <tr>\n",
       "      <th>2</th>\n",
       "      <td>95473.0</td>\n",
       "    </tr>\n",
       "    <tr>\n",
       "      <th>3</th>\n",
       "      <td>95132.0</td>\n",
       "    </tr>\n",
       "    <tr>\n",
       "      <th>0</th>\n",
       "      <td>94719.0</td>\n",
       "    </tr>\n",
       "    <tr>\n",
       "      <th>6</th>\n",
       "      <td>94594.0</td>\n",
       "    </tr>\n",
       "    <tr>\n",
       "      <th>4</th>\n",
       "      <td>94579.5</td>\n",
       "    </tr>\n",
       "    <tr>\n",
       "      <th>5</th>\n",
       "      <td>93548.0</td>\n",
       "    </tr>\n",
       "  </tbody>\n",
       "</table>\n",
       "</div>"
      ],
      "text/plain": [
       "           median\n",
       "day_publ         \n",
       "1         95567.0\n",
       "2         95473.0\n",
       "3         95132.0\n",
       "0         94719.0\n",
       "6         94594.0\n",
       "4         94579.5\n",
       "5         93548.0"
      ]
     },
     "execution_count": 13,
     "metadata": {},
     "output_type": "execute_result"
    },
    {
     "data": {
      "image/png": "[encoded data removed]",
      "text/plain": [
       "<Figure size 432x288 with 1 Axes>"
      ]
     },
     "metadata": {
      "needs_background": "light"
     },
     "output_type": "display_data"
    }
   ],
   "source": [
    "piv_tab_week = df.pivot_table(index = 'day_publ', values = 'cost_area', aggfunc = ['median'])\n",
    "piv_tab_week.columns = ['median']\n",
    "piv_tab_week.plot(y = 'median')\n",
    "plt.ylabel('Цена недвижимости, руб.')\n",
    "plt.xlabel('День')\n",
    "\n",
    "piv_tab_week.sort_values('median', ascending = False)\n",
    "#df['day_publ'].corr(df['cost_area'])"
   ]
  },
  {
   "cell_type": "markdown",
   "metadata": {},
   "source": [
    "Из графика можно заметить что более дорогие предложения  были реализоаны во вторник и среду ( может связано с тем что человек настроился на рабочую неделю, а в понедельник только входит )\n",
    "и чем ближе к выходным  уменьшается , но эти значения не на столько критичны, но заметны "
   ]
  },
  {
   "cell_type": "markdown",
   "metadata": {},
   "source": [
    "Строиться график зависимости цены от месяцев"
   ]
  },
  {
   "cell_type": "code",
   "execution_count": 14,
   "metadata": {},
   "outputs": [
    {
     "data": {
      "text/html": [
       "<div>\n",
       "<style scoped>\n",
       "    .dataframe tbody tr th:only-of-type {\n",
       "        vertical-align: middle;\n",
       "    }\n",
       "\n",
       "    .dataframe tbody tr th {\n",
       "        vertical-align: top;\n",
       "    }\n",
       "\n",
       "    .dataframe thead th {\n",
       "        text-align: right;\n",
       "    }\n",
       "</style>\n",
       "<table border=\"1\" class=\"dataframe\">\n",
       "  <thead>\n",
       "    <tr style=\"text-align: right;\">\n",
       "      <th></th>\n",
       "      <th>mean</th>\n",
       "      <th>count</th>\n",
       "      <th>median</th>\n",
       "    </tr>\n",
       "    <tr>\n",
       "      <th>mon_publ</th>\n",
       "      <th></th>\n",
       "      <th></th>\n",
       "      <th></th>\n",
       "    </tr>\n",
       "  </thead>\n",
       "  <tbody>\n",
       "    <tr>\n",
       "      <th>4</th>\n",
       "      <td>101987.648557</td>\n",
       "      <td>2356</td>\n",
       "      <td>96543.0</td>\n",
       "    </tr>\n",
       "    <tr>\n",
       "      <th>8</th>\n",
       "      <td>100108.687752</td>\n",
       "      <td>1739</td>\n",
       "      <td>96052.0</td>\n",
       "    </tr>\n",
       "    <tr>\n",
       "      <th>9</th>\n",
       "      <td>100518.872211</td>\n",
       "      <td>1972</td>\n",
       "      <td>95623.0</td>\n",
       "    </tr>\n",
       "    <tr>\n",
       "      <th>11</th>\n",
       "      <td>99228.002542</td>\n",
       "      <td>2360</td>\n",
       "      <td>95606.5</td>\n",
       "    </tr>\n",
       "    <tr>\n",
       "      <th>3</th>\n",
       "      <td>98951.544078</td>\n",
       "      <td>2575</td>\n",
       "      <td>95233.0</td>\n",
       "    </tr>\n",
       "    <tr>\n",
       "      <th>1</th>\n",
       "      <td>99732.675857</td>\n",
       "      <td>1487</td>\n",
       "      <td>95180.0</td>\n",
       "    </tr>\n",
       "    <tr>\n",
       "      <th>7</th>\n",
       "      <td>99612.893238</td>\n",
       "      <td>1686</td>\n",
       "      <td>95005.5</td>\n",
       "    </tr>\n",
       "    <tr>\n",
       "      <th>2</th>\n",
       "      <td>98762.248483</td>\n",
       "      <td>2636</td>\n",
       "      <td>95000.0</td>\n",
       "    </tr>\n",
       "    <tr>\n",
       "      <th>12</th>\n",
       "      <td>99501.177656</td>\n",
       "      <td>1638</td>\n",
       "      <td>94238.0</td>\n",
       "    </tr>\n",
       "    <tr>\n",
       "      <th>10</th>\n",
       "      <td>97866.604839</td>\n",
       "      <td>2108</td>\n",
       "      <td>94212.0</td>\n",
       "    </tr>\n",
       "    <tr>\n",
       "      <th>6</th>\n",
       "      <td>97795.432742</td>\n",
       "      <td>1747</td>\n",
       "      <td>92857.0</td>\n",
       "    </tr>\n",
       "    <tr>\n",
       "      <th>5</th>\n",
       "      <td>98487.816812</td>\n",
       "      <td>1261</td>\n",
       "      <td>92696.0</td>\n",
       "    </tr>\n",
       "  </tbody>\n",
       "</table>\n",
       "</div>"
      ],
      "text/plain": [
       "                   mean  count   median\n",
       "mon_publ                               \n",
       "4         101987.648557   2356  96543.0\n",
       "8         100108.687752   1739  96052.0\n",
       "9         100518.872211   1972  95623.0\n",
       "11         99228.002542   2360  95606.5\n",
       "3          98951.544078   2575  95233.0\n",
       "1          99732.675857   1487  95180.0\n",
       "7          99612.893238   1686  95005.5\n",
       "2          98762.248483   2636  95000.0\n",
       "12         99501.177656   1638  94238.0\n",
       "10         97866.604839   2108  94212.0\n",
       "6          97795.432742   1747  92857.0\n",
       "5          98487.816812   1261  92696.0"
      ]
     },
     "execution_count": 14,
     "metadata": {},
     "output_type": "execute_result"
    },
    {
     "data": {
      "image/png": "[encoded data removed]",
      "text/plain": [
       "<Figure size 432x288 with 1 Axes>"
      ]
     },
     "metadata": {
      "needs_background": "light"
     },
     "output_type": "display_data"
    }
   ],
   "source": [
    "piv_tab_mon = df.pivot_table(index = 'mon_publ', values = 'cost_area', aggfunc = ['mean', 'count', 'median'])\n",
    "piv_tab_mon.columns = ['mean', 'count', 'median']\n",
    "piv_tab_mon.plot(y = 'median')\n",
    "plt.ylabel('Цена недвижимости, руб.')\n",
    "plt.xlabel('Месяц')\n",
    "\n",
    "piv_tab_mon.sort_values('median', ascending = False)\n",
    "#df['mon_publ'].corr(df['cost_area'])"
   ]
  },
  {
   "cell_type": "markdown",
   "metadata": {},
   "source": [
    "Как и с предыдущем графиком значения не критичны, но видно что спад приходится на Лето это связано может с отпусками и выходными "
   ]
  },
  {
   "cell_type": "code",
   "execution_count": 15,
   "metadata": {},
   "outputs": [
    {
     "data": {
      "text/html": [
       "<div>\n",
       "<style scoped>\n",
       "    .dataframe tbody tr th:only-of-type {\n",
       "        vertical-align: middle;\n",
       "    }\n",
       "\n",
       "    .dataframe tbody tr th {\n",
       "        vertical-align: top;\n",
       "    }\n",
       "\n",
       "    .dataframe thead th {\n",
       "        text-align: right;\n",
       "    }\n",
       "</style>\n",
       "<table border=\"1\" class=\"dataframe\">\n",
       "  <thead>\n",
       "    <tr style=\"text-align: right;\">\n",
       "      <th></th>\n",
       "      <th>median</th>\n",
       "    </tr>\n",
       "    <tr>\n",
       "      <th>year_publ</th>\n",
       "      <th></th>\n",
       "    </tr>\n",
       "  </thead>\n",
       "  <tbody>\n",
       "    <tr>\n",
       "      <th>2014</th>\n",
       "      <td>106901.5</td>\n",
       "    </tr>\n",
       "    <tr>\n",
       "      <th>2019</th>\n",
       "      <td>103199.0</td>\n",
       "    </tr>\n",
       "    <tr>\n",
       "      <th>2018</th>\n",
       "      <td>95695.5</td>\n",
       "    </tr>\n",
       "    <tr>\n",
       "      <th>2015</th>\n",
       "      <td>93364.5</td>\n",
       "    </tr>\n",
       "    <tr>\n",
       "      <th>2017</th>\n",
       "      <td>92569.0</td>\n",
       "    </tr>\n",
       "    <tr>\n",
       "      <th>2016</th>\n",
       "      <td>91743.0</td>\n",
       "    </tr>\n",
       "  </tbody>\n",
       "</table>\n",
       "</div>"
      ],
      "text/plain": [
       "             median\n",
       "year_publ          \n",
       "2014       106901.5\n",
       "2019       103199.0\n",
       "2018        95695.5\n",
       "2015        93364.5\n",
       "2017        92569.0\n",
       "2016        91743.0"
      ]
     },
     "execution_count": 15,
     "metadata": {},
     "output_type": "execute_result"
    },
    {
     "data": {
      "image/png": "[encoded data removed]",
      "text/plain": [
       "<Figure size 432x288 with 1 Axes>"
      ]
     },
     "metadata": {
      "needs_background": "light"
     },
     "output_type": "display_data"
    }
   ],
   "source": [
    "piv_tab_year = df.pivot_table(index = 'year_publ', values = 'cost_area', aggfunc = ['median'])\n",
    "piv_tab_year.columns = ['median']\n",
    "piv_tab_year.plot(y = 'median')\n",
    "plt.ylabel('Цена недвижимости, руб.')\n",
    "plt.xlabel('Год')\n",
    "           \n",
    "piv_tab_year.sort_values('median', ascending = False)\n"
   ]
  },
  {
   "cell_type": "markdown",
   "metadata": {},
   "source": [
    "Из полученного можно заметить, что стоимость была максимальна в 2014 году и имеет существенную просадку в 2016 году, (Если посмотреть года и месяц что там происходило может был какой то кризис или вышел законопроект)"
   ]
  },
  {
   "cell_type": "markdown",
   "metadata": {},
   "source": [
    "Для данного пункта была создана сводная таблица с названием города и ценной "
   ]
  },
  {
   "cell_type": "code",
   "execution_count": 16,
   "metadata": {
    "scrolled": true
   },
   "outputs": [
    {
     "data": {
      "text/html": [
       "<div>\n",
       "<style scoped>\n",
       "    .dataframe tbody tr th:only-of-type {\n",
       "        vertical-align: middle;\n",
       "    }\n",
       "\n",
       "    .dataframe tbody tr th {\n",
       "        vertical-align: top;\n",
       "    }\n",
       "\n",
       "    .dataframe thead th {\n",
       "        text-align: right;\n",
       "    }\n",
       "</style>\n",
       "<table border=\"1\" class=\"dataframe\">\n",
       "  <thead>\n",
       "    <tr style=\"text-align: right;\">\n",
       "      <th></th>\n",
       "      <th>count</th>\n",
       "      <th>mean</th>\n",
       "    </tr>\n",
       "    <tr>\n",
       "      <th>locality_name</th>\n",
       "      <th></th>\n",
       "      <th></th>\n",
       "    </tr>\n",
       "  </thead>\n",
       "  <tbody>\n",
       "    <tr>\n",
       "      <th>санкт-петербург</th>\n",
       "      <td>15651</td>\n",
       "      <td>114868.433902</td>\n",
       "    </tr>\n",
       "    <tr>\n",
       "      <th>поселок мурино</th>\n",
       "      <td>552</td>\n",
       "      <td>85629.110507</td>\n",
       "    </tr>\n",
       "    <tr>\n",
       "      <th>поселок шушары</th>\n",
       "      <td>439</td>\n",
       "      <td>78550.883827</td>\n",
       "    </tr>\n",
       "    <tr>\n",
       "      <th>всеволожск</th>\n",
       "      <td>398</td>\n",
       "      <td>68654.007538</td>\n",
       "    </tr>\n",
       "    <tr>\n",
       "      <th>пушкин</th>\n",
       "      <td>369</td>\n",
       "      <td>103125.373984</td>\n",
       "    </tr>\n",
       "    <tr>\n",
       "      <th>колпино</th>\n",
       "      <td>338</td>\n",
       "      <td>75424.150888</td>\n",
       "    </tr>\n",
       "    <tr>\n",
       "      <th>поселок парголово</th>\n",
       "      <td>327</td>\n",
       "      <td>90175.489297</td>\n",
       "    </tr>\n",
       "    <tr>\n",
       "      <th>гатчина</th>\n",
       "      <td>307</td>\n",
       "      <td>68745.693811</td>\n",
       "    </tr>\n",
       "    <tr>\n",
       "      <th>деревня кудрово</th>\n",
       "      <td>299</td>\n",
       "      <td>92473.086957</td>\n",
       "    </tr>\n",
       "    <tr>\n",
       "      <th>выборг</th>\n",
       "      <td>237</td>\n",
       "      <td>58141.489451</td>\n",
       "    </tr>\n",
       "  </tbody>\n",
       "</table>\n",
       "</div>"
      ],
      "text/plain": [
       "                   count           mean\n",
       "locality_name                          \n",
       "санкт-петербург    15651  114868.433902\n",
       "поселок мурино       552   85629.110507\n",
       "поселок шушары       439   78550.883827\n",
       "всеволожск           398   68654.007538\n",
       "пушкин               369  103125.373984\n",
       "колпино              338   75424.150888\n",
       "поселок парголово    327   90175.489297\n",
       "гатчина              307   68745.693811\n",
       "деревня кудрово      299   92473.086957\n",
       "выборг               237   58141.489451"
      ]
     },
     "metadata": {},
     "output_type": "display_data"
    },
    {
     "data": {
      "image/png": "[encoded data removed]",
      "text/plain": [
       "<Figure size 432x288 with 1 Axes>"
      ]
     },
     "metadata": {
      "needs_background": "light"
     },
     "output_type": "display_data"
    },
    {
     "data": {
      "image/png": "[encoded data removed]",
      "text/plain": [
       "<Figure size 432x288 with 1 Axes>"
      ]
     },
     "metadata": {
      "needs_background": "light"
     },
     "output_type": "display_data"
    },
    {
     "data": {
      "text/html": [
       "<div>\n",
       "<style scoped>\n",
       "    .dataframe tbody tr th:only-of-type {\n",
       "        vertical-align: middle;\n",
       "    }\n",
       "\n",
       "    .dataframe tbody tr th {\n",
       "        vertical-align: top;\n",
       "    }\n",
       "\n",
       "    .dataframe thead th {\n",
       "        text-align: right;\n",
       "    }\n",
       "</style>\n",
       "<table border=\"1\" class=\"dataframe\">\n",
       "  <thead>\n",
       "    <tr style=\"text-align: right;\">\n",
       "      <th></th>\n",
       "      <th>count</th>\n",
       "      <th>mean</th>\n",
       "    </tr>\n",
       "    <tr>\n",
       "      <th>locality_name</th>\n",
       "      <th></th>\n",
       "      <th></th>\n",
       "    </tr>\n",
       "  </thead>\n",
       "  <tbody>\n",
       "    <tr>\n",
       "      <th>санкт-петербург</th>\n",
       "      <td>15651</td>\n",
       "      <td>114868.433902</td>\n",
       "    </tr>\n",
       "  </tbody>\n",
       "</table>\n",
       "</div>"
      ],
      "text/plain": [
       "                 count           mean\n",
       "locality_name                        \n",
       "санкт-петербург  15651  114868.433902"
      ]
     },
     "metadata": {},
     "output_type": "display_data"
    },
    {
     "data": {
      "text/html": [
       "<div>\n",
       "<style scoped>\n",
       "    .dataframe tbody tr th:only-of-type {\n",
       "        vertical-align: middle;\n",
       "    }\n",
       "\n",
       "    .dataframe tbody tr th {\n",
       "        vertical-align: top;\n",
       "    }\n",
       "\n",
       "    .dataframe thead th {\n",
       "        text-align: right;\n",
       "    }\n",
       "</style>\n",
       "<table border=\"1\" class=\"dataframe\">\n",
       "  <thead>\n",
       "    <tr style=\"text-align: right;\">\n",
       "      <th></th>\n",
       "      <th>count</th>\n",
       "      <th>mean</th>\n",
       "    </tr>\n",
       "    <tr>\n",
       "      <th>locality_name</th>\n",
       "      <th></th>\n",
       "      <th></th>\n",
       "    </tr>\n",
       "  </thead>\n",
       "  <tbody>\n",
       "    <tr>\n",
       "      <th>выборг</th>\n",
       "      <td>237</td>\n",
       "      <td>58141.489451</td>\n",
       "    </tr>\n",
       "  </tbody>\n",
       "</table>\n",
       "</div>"
      ],
      "text/plain": [
       "               count          mean\n",
       "locality_name                     \n",
       "выборг           237  58141.489451"
      ]
     },
     "metadata": {},
     "output_type": "display_data"
    }
   ],
   "source": [
    "loc_pivot_table = df.pivot_table(index = 'locality_name', values = 'cost_area', aggfunc=['count', 'mean'])\n",
    "loc_pivot_table.columns = ['count', 'mean']\n",
    "loc_pivot_table = (loc_pivot_table\n",
    "                   .sort_values('count', ascending = False)\n",
    "                   .head(10)\n",
    "                  )\n",
    "display(loc_pivot_table)\n",
    "\n",
    "loc_pivot_table['count'].plot(kind='bar', ylim = (50,1000))\n",
    "plt.ylabel('Кол. объявл. знач.')\n",
    "plt.xlabel('Название')\n",
    "plt.show()\n",
    "\n",
    "loc_pivot_table['mean'].plot(kind='bar')\n",
    "plt.ylabel('Цена недвижимости, руб.')\n",
    "plt.xlabel('Название')\n",
    "plt.show()\n",
    "\n",
    "#loc_pivot_table.boxplot('mean')\n",
    "#plt.show()\n",
    "\n",
    "#самая высокая стоимость\n",
    "display(loc_pivot_table[loc_pivot_table['mean']==loc_pivot_table['mean'].max()])\n",
    "\n",
    "#самая низкая стоимость\n",
    "display(loc_pivot_table[loc_pivot_table['mean']==loc_pivot_table['mean'].min()])\n"
   ]
  },
  {
   "cell_type": "markdown",
   "metadata": {},
   "source": [
    "Саммый многочисленный и дорогой город оказался Санкт-Петербург  (как не странно)\n",
    "Самый минимльная стоимость и колличества принадлежит городу Выборг "
   ]
  },
  {
   "cell_type": "markdown",
   "metadata": {},
   "source": [
    "Строиться зависимость цены от расстояния от центра Санкт- Петербурга  (видно чем дальше от центра тем цена становиться гораздо меньше,  наибольшее значения на от до 3 км от центра) (еще надо понять от куда брался центр {т.е. координаты})"
   ]
  },
  {
   "cell_type": "code",
   "execution_count": 31,
   "metadata": {},
   "outputs": [
    {
     "data": {
      "image/png": "[encoded data removed]",
      "text/plain": [
       "<Figure size 432x288 with 1 Axes>"
      ]
     },
     "metadata": {
      "needs_background": "light"
     },
     "output_type": "display_data"
    }
   ],
   "source": [
    "df['cityCenters_nearest_km'] = df['cityCenters_nearest_km'].astype('int')\n",
    "piv_tab_cen = (df\n",
    "               .query('locality_name == \"санкт-петербург\" and (cityCenters_nearest_km != 10000)')\n",
    "               .pivot_table(index = 'cityCenters_nearest_km', values = 'cost_area', aggfunc = 'mean')\n",
    "               .plot())\n",
    "#display(piv_tab_cen.head(10))\n",
    "plt.ylabel('Цена недвижимости, руб.')\n",
    "plt.xlabel('Расстояние до центра, км')\n",
    "plt.show()"
   ]
  },
  {
   "cell_type": "markdown",
   "metadata": {},
   "source": [
    "### Общий вывод"
   ]
  },
  {
   "cell_type": "markdown",
   "metadata": {},
   "source": [
    "Данные полученные для проекта были предобработаны в следующем образом:\n",
    "1. были изменены значения с точкой на целочисленные\n",
    "2. были исправленны пропуски (в балконе, апортаменте, квадратных метрах живой площади и кухонной)\n",
    "3. Самая непонятная и выбивающаяся ошибка это ошибка связанная с высотой потолков, так как меняються десятки и сотки чисел, и есть потолки более 100 м, и равные 0,1,  связанны с ошибкой ввода, оснавная часть потолков находится на уровни 2,75 м\n",
    "Главные цели ислледования были: \n",
    "1. Изучить на сколько быстро продаються квартиры\n",
    "| 25% Продаж |  75% Продаж  |  среднее время |\n",
    "| --------- -| ------------ | -------------  |\n",
    "| 45 дней    |  231 дней    | 180 дней       |\n",
    "2. Изучить зависимость цены от не которых признаков \n",
    "- Взвависимсоти от всей площади квартиры Кф. корр. = 0,3 обозначает что связь слабая\n",
    "- Колличество комнат имеют связь на уровне погрешности Кф.корр. = 0.05\n",
    "- Тип этажа имеет связь так как цена на первом этаже ниже на 7.5 процентов \n",
    "- Дни недели продажи с наивысшей стоимостью являются вторник и среда с наименьшей суббота\n",
    "- Месяц продажи с наивысшей стоимостью являются месяца апрель и август с наименьшей  июнь и июль ( время отпусков)\n",
    "- Год продажи стоимость была максимальна в 2014 году и имеет существенную просадку в 2016 году, (может в этом году был кризис или законопроет новый)\n",
    "3. Изучения топ 10 городов по колличеству объявлений .\n",
    "- Как видно из таблицы с наибольшей ценной и наибольшим колличеством объявлений являеться Санкт-Петербург\n",
    "|         город     |стоимость1 кв.м |  \n",
    "| --------- -       | ------------   |\n",
    "| Санкт-Петербург   |      114868    |\n",
    "| поселок Мурино    |      85629     |\n",
    "| оселок Шушары     |      78550     |\n",
    "| Всеволожск        |      68654     |\n",
    "| Пушкин            |      103125    |\n",
    "| Колпино           |      75424     |\n",
    "| поселок Парголово |      90175     |\n",
    "| Гатчина           |      68745     |\n",
    "| деревня Кудрово   |      92473     |\n",
    "| Выборг            |      58141     |\n",
    "- Зависимость цены от расстояния центра Санкт- Петербурга чем дальше от центра тем цена становиться гораздо меньше,  наибольшее значения находятся в радиусе до 3 км от центра. (еще надо понять от куда брался центр {т.е. координаты})\n",
    " Можно было бы добавить районы разбияния от центра, посмотреть зависимость двух параметров сразу например колличество квартир и расстояния от центра."
   ]
  },
  {
   "cell_type": "markdown",
   "metadata": {},
   "source": [
    "**Чек-лист готовности проекта**\n",
    "\n",
    "Поставьте 'x' в выполненных пунктах. Далее нажмите Shift+Enter."
   ]
  },
  {
   "cell_type": "markdown",
   "metadata": {},
   "source": [
    "- [x]  открыт файл\n",
    "- [x]  файлы изучены (выведены первые строки, метод `info()`, гистограммы и т.д.)\n",
    "- [x]  определены пропущенные значения\n",
    "- [x]  заполнены пропущенные значения там, где это возможно\n",
    "- [x]  есть пояснение, какие пропущенные значения обнаружены\n",
    "- [x]  изменены типы данных\n",
    "- [x]  есть пояснение, в каких столбцах изменены типы и почему\n",
    "- [x]  устранены неявные дубликаты в названиях населённых пунктов\n",
    "- [x]  устранены редкие и выбивающиеся значения (аномалии) во всех столбцах\n",
    "- [x]  посчитано и добавлено в таблицу: цена одного квадратного метра\n",
    "- [x]  посчитано и добавлено в таблицу: день публикации объявления (0 - понедельник, 1 - вторник и т.д.)\n",
    "- [x]  посчитано и добавлено в таблицу: месяц публикации объявления\n",
    "- [x]  посчитано и добавлено в таблицу: год публикации объявления\n",
    "- [x]  посчитано и добавлено в таблицу: тип этажа квартиры (значения — «первый», «последний», «другой»)\n",
    "- [x]  посчитано и добавлено в таблицу: расстояние в км до центра города\n",
    "- [x]  изучены и описаны следующие параметры:\n",
    "        - общая площадь;\n",
    "        - жилая площадь;\n",
    "        - площадь кухни;\n",
    "        - цена объекта;\n",
    "        - количество комнат;\n",
    "        - высота потолков;\n",
    "        - этаж квартиры;\n",
    "        - тип этажа квартиры («первый», «последний», «другой»);\n",
    "        - общее количество этажей в доме;\n",
    "        - расстояние до центра города в метрах;\n",
    "        - расстояние до ближайшего аэропорта;\n",
    "        - расстояние до ближайшего парка;\n",
    "        - день и месяц публикации объявления\n",
    "- [x]  построены гистограммы для каждого параметра\n",
    "- [x]  выполнено задание: \"Изучите, как быстро продавались квартиры (столбец days_exposition). Этот параметр показывает, сколько дней «висело» каждое объявление.\n",
    "    - Постройте гистограмму.\n",
    "    - Посчитайте среднее и медиану.\n",
    "    - В ячейке типа markdown опишите, сколько обычно занимает продажа. Какие продажи можно считать быстрыми, а какие — необычно долгими?\"\n",
    "- [X]  выполнено задание: \"Какие факторы больше всего влияют на общую (полную) стоимость объекта? Постройте графики, которые покажут зависимость цены от указанных ниже параметров. Для подготовки данных перед визуализацией вы можете использовать сводные таблицы.\"\n",
    "        - общей площади;\n",
    "        - жилой площади;\n",
    "        - площади кухни;\n",
    "        - количество комнат;\n",
    "        - типа этажа, на котором расположена квартира (первый, последний, другой);\n",
    "        - даты размещения (день недели, месяц, год);\n",
    "- [X]  выполнено задание: \"Посчитайте среднюю цену одного квадратного метра в 10 населённых пунктах с наибольшим числом объявлений. Выделите населённые пункты с самой высокой и низкой стоимостью квадратного метра. Эти данные можно найти по имени в столбце `locality_name`.\"\n",
    "- [X]  выполнено задание: \"Ранее вы посчитали расстояние до центра в километрах. Теперь выделите квартиры в Санкт-Петербурге с помощью столбца `locality_name` и вычислите среднюю цену каждого километра. Опишите, как стоимость объектов зависит от расстояния до центра города.\"\n",
    "- [X]  в каждом этапе есть промежуточные выводы\n",
    "- [X]  есть общий вывод"
   ]
  }
 ],
 "metadata": {
  "ExecuteTimeLog": [
   {
    "duration": 695,
    "start_time": "2022-07-25T13:25:28.372Z"
   },
   {
    "duration": 96,
    "start_time": "2022-07-25T13:26:16.667Z"
   },
   {
    "duration": 62,
    "start_time": "2022-07-25T13:26:53.193Z"
   },
   {
    "duration": 87,
    "start_time": "2022-07-25T13:26:59.085Z"
   },
   {
    "duration": 144,
    "start_time": "2022-07-25T13:27:07.259Z"
   },
   {
    "duration": 120,
    "start_time": "2022-07-25T13:30:55.620Z"
   },
   {
    "duration": 2623,
    "start_time": "2022-07-25T13:40:16.322Z"
   },
   {
    "duration": 2081,
    "start_time": "2022-07-25T13:44:33.707Z"
   },
   {
    "duration": 2176,
    "start_time": "2022-07-25T13:45:10.496Z"
   },
   {
    "duration": 1862,
    "start_time": "2022-07-25T13:45:25.659Z"
   },
   {
    "duration": 3039,
    "start_time": "2022-07-25T13:45:34.027Z"
   },
   {
    "duration": 3009,
    "start_time": "2022-07-25T13:50:19.618Z"
   },
   {
    "duration": 3092,
    "start_time": "2022-07-25T13:50:43.850Z"
   },
   {
    "duration": 23,
    "start_time": "2022-07-25T13:53:44.307Z"
   },
   {
    "duration": 10,
    "start_time": "2022-07-25T13:55:13.193Z"
   },
   {
    "duration": 4,
    "start_time": "2022-07-25T14:02:58.638Z"
   },
   {
    "duration": 5454,
    "start_time": "2022-08-01T13:23:10.186Z"
   },
   {
    "duration": 3587,
    "start_time": "2022-08-01T13:24:40.590Z"
   },
   {
    "duration": 3797,
    "start_time": "2022-08-01T13:25:10.015Z"
   },
   {
    "duration": 4106,
    "start_time": "2022-08-01T13:25:24.090Z"
   },
   {
    "duration": 4033,
    "start_time": "2022-08-01T13:25:33.689Z"
   },
   {
    "duration": 3923,
    "start_time": "2022-08-01T13:26:20.158Z"
   },
   {
    "duration": 4150,
    "start_time": "2022-08-01T13:26:32.408Z"
   },
   {
    "duration": 2490,
    "start_time": "2022-08-01T13:34:57.958Z"
   },
   {
    "duration": 2865,
    "start_time": "2022-08-01T13:35:31.645Z"
   },
   {
    "duration": 24,
    "start_time": "2022-08-01T13:36:03.592Z"
   },
   {
    "duration": 41,
    "start_time": "2022-08-01T13:36:57.661Z"
   },
   {
    "duration": 111,
    "start_time": "2022-08-01T13:37:14.688Z"
   },
   {
    "duration": 93,
    "start_time": "2022-08-01T13:37:21.273Z"
   },
   {
    "duration": 24,
    "start_time": "2022-08-01T13:41:40.758Z"
   },
   {
    "duration": 37,
    "start_time": "2022-08-01T13:42:07.529Z"
   },
   {
    "duration": 21,
    "start_time": "2022-08-01T13:42:18.332Z"
   },
   {
    "duration": 19,
    "start_time": "2022-08-01T14:58:08.021Z"
   },
   {
    "duration": 26,
    "start_time": "2022-08-01T14:58:31.541Z"
   },
   {
    "duration": 40,
    "start_time": "2022-08-01T15:00:52.709Z"
   },
   {
    "duration": 31,
    "start_time": "2022-08-01T15:00:58.821Z"
   },
   {
    "duration": 46,
    "start_time": "2022-08-01T15:01:08.949Z"
   },
   {
    "duration": 192,
    "start_time": "2022-08-01T15:02:27.308Z"
   },
   {
    "duration": 56,
    "start_time": "2022-08-01T15:02:46.188Z"
   },
   {
    "duration": 626,
    "start_time": "2022-08-01T15:03:09.091Z"
   },
   {
    "duration": 32,
    "start_time": "2022-08-01T15:04:36.421Z"
   },
   {
    "duration": 39,
    "start_time": "2022-08-01T15:06:08.248Z"
   },
   {
    "duration": 28,
    "start_time": "2022-08-01T15:07:15.927Z"
   },
   {
    "duration": 494,
    "start_time": "2022-08-01T15:07:27.852Z"
   },
   {
    "duration": 77,
    "start_time": "2022-08-02T04:44:57.330Z"
   },
   {
    "duration": 45,
    "start_time": "2022-08-02T04:45:03.235Z"
   },
   {
    "duration": 8,
    "start_time": "2022-08-02T04:45:55.383Z"
   },
   {
    "duration": 4041,
    "start_time": "2022-08-02T04:46:19.116Z"
   },
   {
    "duration": 999,
    "start_time": "2022-08-02T04:46:23.159Z"
   },
   {
    "duration": 0,
    "start_time": "2022-08-02T04:46:24.160Z"
   },
   {
    "duration": 18,
    "start_time": "2022-08-02T04:47:05.832Z"
   },
   {
    "duration": 19,
    "start_time": "2022-08-02T04:48:24.482Z"
   },
   {
    "duration": 1286,
    "start_time": "2022-08-02T04:48:32.052Z"
   },
   {
    "duration": 370,
    "start_time": "2022-08-02T04:49:20.308Z"
   },
   {
    "duration": 511,
    "start_time": "2022-08-02T04:49:56.052Z"
   },
   {
    "duration": 26,
    "start_time": "2022-08-02T04:51:30.972Z"
   },
   {
    "duration": 23,
    "start_time": "2022-08-02T04:52:23.792Z"
   },
   {
    "duration": 2876,
    "start_time": "2022-08-02T04:52:55.957Z"
   },
   {
    "duration": 20,
    "start_time": "2022-08-02T04:52:58.836Z"
   },
   {
    "duration": 0,
    "start_time": "2022-08-02T04:52:58.858Z"
   },
   {
    "duration": 15,
    "start_time": "2022-08-02T04:53:20.957Z"
   },
   {
    "duration": 17,
    "start_time": "2022-08-02T04:53:39.805Z"
   },
   {
    "duration": 26,
    "start_time": "2022-08-02T04:53:47.652Z"
   },
   {
    "duration": 609,
    "start_time": "2022-08-02T04:53:56.837Z"
   },
   {
    "duration": 517,
    "start_time": "2022-08-02T04:53:59.577Z"
   },
   {
    "duration": 26,
    "start_time": "2022-08-02T04:54:08.892Z"
   },
   {
    "duration": 386,
    "start_time": "2022-08-02T07:29:40.192Z"
   },
   {
    "duration": 373,
    "start_time": "2022-08-02T07:30:46.272Z"
   },
   {
    "duration": 414,
    "start_time": "2022-08-02T07:30:55.397Z"
   },
   {
    "duration": 400,
    "start_time": "2022-08-02T07:33:18.228Z"
   },
   {
    "duration": 2325,
    "start_time": "2022-08-02T07:34:58.840Z"
   },
   {
    "duration": 443,
    "start_time": "2022-08-02T07:35:15.189Z"
   },
   {
    "duration": 397,
    "start_time": "2022-08-02T07:37:14.982Z"
   },
   {
    "duration": 390,
    "start_time": "2022-08-02T07:37:30.981Z"
   },
   {
    "duration": 425,
    "start_time": "2022-08-02T07:37:40.952Z"
   },
   {
    "duration": 355,
    "start_time": "2022-08-02T07:37:50.233Z"
   },
   {
    "duration": 434,
    "start_time": "2022-08-02T07:45:12.692Z"
   },
   {
    "duration": 6,
    "start_time": "2022-08-02T07:53:48.319Z"
   },
   {
    "duration": 5,
    "start_time": "2022-08-02T07:53:55.672Z"
   },
   {
    "duration": 7,
    "start_time": "2022-08-02T07:54:00.043Z"
   },
   {
    "duration": 23,
    "start_time": "2022-08-02T07:55:19.872Z"
   },
   {
    "duration": 17,
    "start_time": "2022-08-02T07:55:27.982Z"
   },
   {
    "duration": 14,
    "start_time": "2022-08-02T07:55:37.831Z"
   },
   {
    "duration": 16,
    "start_time": "2022-08-02T07:55:52.739Z"
   },
   {
    "duration": 1185,
    "start_time": "2022-08-02T07:57:42.341Z"
   },
   {
    "duration": 1544,
    "start_time": "2022-08-02T08:29:04.639Z"
   },
   {
    "duration": 1506,
    "start_time": "2022-08-02T08:29:11.040Z"
   },
   {
    "duration": 1432,
    "start_time": "2022-08-02T08:29:32.678Z"
   },
   {
    "duration": 1467,
    "start_time": "2022-08-02T08:29:49.139Z"
   },
   {
    "duration": 1575,
    "start_time": "2022-08-02T08:30:01.260Z"
   },
   {
    "duration": 1390,
    "start_time": "2022-08-02T08:30:12.039Z"
   },
   {
    "duration": 516,
    "start_time": "2022-08-02T08:35:51.646Z"
   },
   {
    "duration": 466,
    "start_time": "2022-08-02T08:36:13.555Z"
   },
   {
    "duration": 416,
    "start_time": "2022-08-02T08:36:23.427Z"
   },
   {
    "duration": 513,
    "start_time": "2022-08-02T08:37:05.998Z"
   },
   {
    "duration": 665,
    "start_time": "2022-08-02T08:37:15.638Z"
   },
   {
    "duration": 463,
    "start_time": "2022-08-02T08:37:22.246Z"
   },
   {
    "duration": 1174,
    "start_time": "2022-08-02T08:40:41.002Z"
   },
   {
    "duration": 7,
    "start_time": "2022-08-02T08:40:54.943Z"
   },
   {
    "duration": 6,
    "start_time": "2022-08-02T08:41:20.374Z"
   },
   {
    "duration": 7,
    "start_time": "2022-08-02T08:42:33.504Z"
   },
   {
    "duration": 21,
    "start_time": "2022-08-02T08:46:20.635Z"
   },
   {
    "duration": 17,
    "start_time": "2022-08-02T08:46:40.907Z"
   },
   {
    "duration": 25,
    "start_time": "2022-08-02T08:46:53.150Z"
   },
   {
    "duration": 9,
    "start_time": "2022-08-02T08:50:04.565Z"
   },
   {
    "duration": 9,
    "start_time": "2022-08-02T08:50:24.610Z"
   },
   {
    "duration": 13,
    "start_time": "2022-08-02T08:50:34.059Z"
   },
   {
    "duration": 56,
    "start_time": "2022-08-02T08:50:42.711Z"
   },
   {
    "duration": 18,
    "start_time": "2022-08-02T08:50:47.005Z"
   },
   {
    "duration": 52,
    "start_time": "2022-08-02T08:50:48.631Z"
   },
   {
    "duration": 28,
    "start_time": "2022-08-02T08:50:54.663Z"
   },
   {
    "duration": 20,
    "start_time": "2022-08-02T09:16:57.437Z"
   },
   {
    "duration": 13,
    "start_time": "2022-08-02T09:17:44.908Z"
   },
   {
    "duration": 12,
    "start_time": "2022-08-02T09:32:56.038Z"
   },
   {
    "duration": 9,
    "start_time": "2022-08-02T09:33:00.093Z"
   },
   {
    "duration": 9,
    "start_time": "2022-08-02T09:33:06.523Z"
   },
   {
    "duration": 9,
    "start_time": "2022-08-02T09:33:43.044Z"
   },
   {
    "duration": 11,
    "start_time": "2022-08-02T09:35:28.848Z"
   },
   {
    "duration": 831,
    "start_time": "2022-08-02T09:35:43.378Z"
   },
   {
    "duration": 9,
    "start_time": "2022-08-02T09:35:52.592Z"
   },
   {
    "duration": 129,
    "start_time": "2022-08-02T09:36:01.845Z"
   },
   {
    "duration": 162,
    "start_time": "2022-08-02T09:36:17.258Z"
   },
   {
    "duration": 3410,
    "start_time": "2022-08-02T09:36:25.564Z"
   },
   {
    "duration": 174,
    "start_time": "2022-08-02T09:36:35.949Z"
   },
   {
    "duration": 140,
    "start_time": "2022-08-02T09:36:55.428Z"
   },
   {
    "duration": 123,
    "start_time": "2022-08-02T09:37:03.685Z"
   },
   {
    "duration": 340,
    "start_time": "2022-08-02T09:37:30.692Z"
   },
   {
    "duration": 143,
    "start_time": "2022-08-02T09:37:35.723Z"
   },
   {
    "duration": 118,
    "start_time": "2022-08-02T09:40:24.333Z"
   },
   {
    "duration": 121,
    "start_time": "2022-08-02T09:43:21.054Z"
   },
   {
    "duration": 172,
    "start_time": "2022-08-02T09:44:30.566Z"
   },
   {
    "duration": 171,
    "start_time": "2022-08-02T09:45:25.479Z"
   },
   {
    "duration": 168,
    "start_time": "2022-08-02T09:45:35.143Z"
   },
   {
    "duration": 187,
    "start_time": "2022-08-02T09:46:08.223Z"
   },
   {
    "duration": 199,
    "start_time": "2022-08-02T09:46:14.244Z"
   },
   {
    "duration": 210,
    "start_time": "2022-08-02T09:48:32.425Z"
   },
   {
    "duration": 325,
    "start_time": "2022-08-02T09:49:25.395Z"
   },
   {
    "duration": 356,
    "start_time": "2022-08-02T09:51:10.821Z"
   },
   {
    "duration": 11,
    "start_time": "2022-08-02T10:03:06.356Z"
   },
   {
    "duration": 9,
    "start_time": "2022-08-02T10:03:13.349Z"
   },
   {
    "duration": 13,
    "start_time": "2022-08-02T10:03:33.042Z"
   },
   {
    "duration": 17,
    "start_time": "2022-08-02T10:03:37.962Z"
   },
   {
    "duration": 991,
    "start_time": "2022-08-02T10:03:59.521Z"
   },
   {
    "duration": 12,
    "start_time": "2022-08-02T10:09:35.379Z"
   },
   {
    "duration": 18,
    "start_time": "2022-08-02T10:10:00.199Z"
   },
   {
    "duration": 18,
    "start_time": "2022-08-02T10:10:06.475Z"
   },
   {
    "duration": 19,
    "start_time": "2022-08-02T10:10:37.798Z"
   },
   {
    "duration": 2075,
    "start_time": "2022-08-02T10:10:56.595Z"
   },
   {
    "duration": 21,
    "start_time": "2022-08-02T10:14:40.522Z"
   },
   {
    "duration": 17,
    "start_time": "2022-08-02T10:14:58.634Z"
   },
   {
    "duration": 3847,
    "start_time": "2022-08-02T10:15:17.383Z"
   },
   {
    "duration": 96,
    "start_time": "2022-08-02T10:15:21.234Z"
   },
   {
    "duration": 0,
    "start_time": "2022-08-02T10:15:21.332Z"
   },
   {
    "duration": 0,
    "start_time": "2022-08-02T10:15:21.334Z"
   },
   {
    "duration": 0,
    "start_time": "2022-08-02T10:15:21.335Z"
   },
   {
    "duration": 1,
    "start_time": "2022-08-02T10:15:21.336Z"
   },
   {
    "duration": 0,
    "start_time": "2022-08-02T10:15:21.338Z"
   },
   {
    "duration": 0,
    "start_time": "2022-08-02T10:15:21.341Z"
   },
   {
    "duration": 17,
    "start_time": "2022-08-02T10:15:25.156Z"
   },
   {
    "duration": 51,
    "start_time": "2022-08-02T10:16:53.487Z"
   },
   {
    "duration": 25,
    "start_time": "2022-08-02T10:16:57.970Z"
   },
   {
    "duration": 1058,
    "start_time": "2022-08-02T10:19:04.678Z"
   },
   {
    "duration": 1670,
    "start_time": "2022-08-02T10:19:26.244Z"
   },
   {
    "duration": 1066,
    "start_time": "2022-08-02T10:19:34.334Z"
   },
   {
    "duration": 6,
    "start_time": "2022-08-02T10:19:58.434Z"
   },
   {
    "duration": 22,
    "start_time": "2022-08-02T10:20:07.639Z"
   },
   {
    "duration": 930,
    "start_time": "2022-08-02T10:20:35.194Z"
   },
   {
    "duration": 18,
    "start_time": "2022-08-02T10:21:47.145Z"
   },
   {
    "duration": 13,
    "start_time": "2022-08-02T10:21:55.742Z"
   },
   {
    "duration": 1172,
    "start_time": "2022-08-02T10:22:08.633Z"
   },
   {
    "duration": 8,
    "start_time": "2022-08-02T10:22:25.127Z"
   },
   {
    "duration": 17,
    "start_time": "2022-08-02T10:23:02.827Z"
   },
   {
    "duration": 52,
    "start_time": "2022-08-02T10:23:02.934Z"
   },
   {
    "duration": 24,
    "start_time": "2022-08-02T10:24:13.035Z"
   },
   {
    "duration": 10,
    "start_time": "2022-08-02T10:24:25.563Z"
   },
   {
    "duration": 38,
    "start_time": "2022-08-02T10:24:29.594Z"
   },
   {
    "duration": 16,
    "start_time": "2022-08-02T10:25:59.934Z"
   },
   {
    "duration": 63,
    "start_time": "2022-08-02T10:26:15.090Z"
   },
   {
    "duration": 637,
    "start_time": "2022-08-02T10:26:21.333Z"
   },
   {
    "duration": 449,
    "start_time": "2022-08-02T10:26:30.625Z"
   },
   {
    "duration": 14,
    "start_time": "2022-08-02T10:26:34.121Z"
   },
   {
    "duration": 1553,
    "start_time": "2022-08-02T10:26:36.033Z"
   },
   {
    "duration": 2227,
    "start_time": "2022-08-02T10:27:36.125Z"
   },
   {
    "duration": 10,
    "start_time": "2022-08-02T10:27:48.737Z"
   },
   {
    "duration": 486,
    "start_time": "2022-08-02T10:27:53.032Z"
   },
   {
    "duration": 19,
    "start_time": "2022-08-02T10:27:56.254Z"
   },
   {
    "duration": 15,
    "start_time": "2022-08-02T10:28:55.835Z"
   },
   {
    "duration": 14,
    "start_time": "2022-08-02T10:29:04.292Z"
   },
   {
    "duration": 16,
    "start_time": "2022-08-02T10:29:23.733Z"
   },
   {
    "duration": 1165,
    "start_time": "2022-08-02T10:29:45.434Z"
   },
   {
    "duration": 1656,
    "start_time": "2022-08-02T10:29:52.242Z"
   },
   {
    "duration": 145,
    "start_time": "2022-08-02T10:30:19.259Z"
   },
   {
    "duration": 155,
    "start_time": "2022-08-02T10:33:30.890Z"
   },
   {
    "duration": 143,
    "start_time": "2022-08-02T10:33:43.220Z"
   },
   {
    "duration": 160,
    "start_time": "2022-08-02T10:33:59.931Z"
   },
   {
    "duration": 151,
    "start_time": "2022-08-02T10:34:30.027Z"
   },
   {
    "duration": 146,
    "start_time": "2022-08-02T10:34:41.330Z"
   },
   {
    "duration": 218,
    "start_time": "2022-08-02T10:34:47.380Z"
   },
   {
    "duration": 203,
    "start_time": "2022-08-02T10:34:53.427Z"
   },
   {
    "duration": 137,
    "start_time": "2022-08-02T10:34:56.530Z"
   },
   {
    "duration": 136,
    "start_time": "2022-08-02T10:35:02.082Z"
   },
   {
    "duration": 143,
    "start_time": "2022-08-02T10:35:06.527Z"
   },
   {
    "duration": 146,
    "start_time": "2022-08-02T10:35:13.347Z"
   },
   {
    "duration": 147,
    "start_time": "2022-08-02T10:35:16.690Z"
   },
   {
    "duration": 137,
    "start_time": "2022-08-02T10:35:22.234Z"
   },
   {
    "duration": 150,
    "start_time": "2022-08-02T10:35:30.066Z"
   },
   {
    "duration": 136,
    "start_time": "2022-08-02T10:35:34.366Z"
   },
   {
    "duration": 158,
    "start_time": "2022-08-02T10:36:46.118Z"
   },
   {
    "duration": 162,
    "start_time": "2022-08-02T10:37:08.419Z"
   },
   {
    "duration": 1249,
    "start_time": "2022-08-02T10:37:26.739Z"
   },
   {
    "duration": 162,
    "start_time": "2022-08-02T10:37:38.454Z"
   },
   {
    "duration": 38,
    "start_time": "2022-08-02T10:40:35.336Z"
   },
   {
    "duration": 19,
    "start_time": "2022-08-02T10:40:55.133Z"
   },
   {
    "duration": 126,
    "start_time": "2022-08-02T10:41:05.229Z"
   },
   {
    "duration": 153,
    "start_time": "2022-08-02T10:42:01.676Z"
   },
   {
    "duration": 131,
    "start_time": "2022-08-02T10:42:34.871Z"
   },
   {
    "duration": 30,
    "start_time": "2022-08-02T10:56:50.250Z"
   },
   {
    "duration": 136,
    "start_time": "2022-08-02T10:56:56.333Z"
   },
   {
    "duration": 1584,
    "start_time": "2022-08-02T10:58:30.041Z"
   },
   {
    "duration": 1944,
    "start_time": "2022-08-02T10:59:10.833Z"
   },
   {
    "duration": 175,
    "start_time": "2022-08-02T10:59:21.797Z"
   },
   {
    "duration": 182,
    "start_time": "2022-08-02T11:00:14.454Z"
   },
   {
    "duration": 192,
    "start_time": "2022-08-02T11:00:18.999Z"
   },
   {
    "duration": 275,
    "start_time": "2022-08-02T11:00:23.446Z"
   },
   {
    "duration": 9,
    "start_time": "2022-08-02T11:03:03.526Z"
   },
   {
    "duration": 178,
    "start_time": "2022-08-02T11:03:11.557Z"
   },
   {
    "duration": 164,
    "start_time": "2022-08-02T11:05:29.171Z"
   },
   {
    "duration": 194,
    "start_time": "2022-08-02T11:06:10.844Z"
   },
   {
    "duration": 29,
    "start_time": "2022-08-02T11:09:07.922Z"
   },
   {
    "duration": 29,
    "start_time": "2022-08-02T11:09:23.558Z"
   },
   {
    "duration": 33,
    "start_time": "2022-08-02T11:14:01.754Z"
   },
   {
    "duration": 36,
    "start_time": "2022-08-02T11:14:33.066Z"
   },
   {
    "duration": 37,
    "start_time": "2022-08-02T11:20:04.620Z"
   },
   {
    "duration": 44,
    "start_time": "2022-08-02T11:20:16.120Z"
   },
   {
    "duration": 39,
    "start_time": "2022-08-02T11:20:25.122Z"
   },
   {
    "duration": 39,
    "start_time": "2022-08-02T11:20:48.516Z"
   },
   {
    "duration": 36,
    "start_time": "2022-08-02T11:20:56.741Z"
   },
   {
    "duration": 38,
    "start_time": "2022-08-02T11:21:45.133Z"
   },
   {
    "duration": 39,
    "start_time": "2022-08-02T11:21:53.253Z"
   },
   {
    "duration": 258,
    "start_time": "2022-08-02T11:24:39.397Z"
   },
   {
    "duration": 83,
    "start_time": "2022-08-02T11:25:24.852Z"
   },
   {
    "duration": 146,
    "start_time": "2022-08-02T11:25:37.965Z"
   },
   {
    "duration": 3552,
    "start_time": "2022-08-02T11:26:48.922Z"
   },
   {
    "duration": 22,
    "start_time": "2022-08-02T11:26:52.477Z"
   },
   {
    "duration": 51,
    "start_time": "2022-08-02T11:26:52.501Z"
   },
   {
    "duration": 576,
    "start_time": "2022-08-02T11:26:52.554Z"
   },
   {
    "duration": 14,
    "start_time": "2022-08-02T11:26:53.133Z"
   },
   {
    "duration": 11,
    "start_time": "2022-08-02T11:26:53.149Z"
   },
   {
    "duration": 329,
    "start_time": "2022-08-02T11:26:53.162Z"
   },
   {
    "duration": 155,
    "start_time": "2022-08-02T11:26:53.492Z"
   },
   {
    "duration": 177,
    "start_time": "2022-08-02T11:26:53.649Z"
   },
   {
    "duration": 139,
    "start_time": "2022-08-02T11:26:53.827Z"
   },
   {
    "duration": 352,
    "start_time": "2022-08-02T11:26:53.968Z"
   },
   {
    "duration": 171,
    "start_time": "2022-08-02T11:26:54.322Z"
   },
   {
    "duration": 160,
    "start_time": "2022-08-02T11:26:54.495Z"
   },
   {
    "duration": 164,
    "start_time": "2022-08-02T11:26:54.657Z"
   },
   {
    "duration": 33,
    "start_time": "2022-08-02T11:26:54.822Z"
   },
   {
    "duration": 157,
    "start_time": "2022-08-02T11:26:54.857Z"
   },
   {
    "duration": 96,
    "start_time": "2022-08-02T11:49:24.393Z"
   },
   {
    "duration": 27,
    "start_time": "2022-08-02T11:50:44.076Z"
   },
   {
    "duration": 54,
    "start_time": "2022-08-02T11:50:44.126Z"
   },
   {
    "duration": 20,
    "start_time": "2022-08-02T11:52:03.236Z"
   },
   {
    "duration": 25,
    "start_time": "2022-08-02T11:52:38.326Z"
   },
   {
    "duration": 31,
    "start_time": "2022-08-02T11:53:01.283Z"
   },
   {
    "duration": 27,
    "start_time": "2022-08-02T11:53:34.391Z"
   },
   {
    "duration": 18,
    "start_time": "2022-08-02T11:53:46.895Z"
   },
   {
    "duration": 19,
    "start_time": "2022-08-02T11:54:15.563Z"
   },
   {
    "duration": 309,
    "start_time": "2022-08-02T11:54:40.845Z"
   },
   {
    "duration": 163,
    "start_time": "2022-08-02T11:54:41.156Z"
   },
   {
    "duration": 387,
    "start_time": "2022-08-02T11:54:48.023Z"
   },
   {
    "duration": 350,
    "start_time": "2022-08-02T11:54:55.827Z"
   },
   {
    "duration": 15,
    "start_time": "2022-08-02T11:55:43.223Z"
   },
   {
    "duration": 70,
    "start_time": "2022-08-02T11:55:57.227Z"
   },
   {
    "duration": 17,
    "start_time": "2022-08-02T11:56:09.250Z"
   },
   {
    "duration": 22,
    "start_time": "2022-08-02T11:56:37.071Z"
   },
   {
    "duration": 35,
    "start_time": "2022-08-02T11:57:49.599Z"
   },
   {
    "duration": 62,
    "start_time": "2022-08-02T11:58:29.585Z"
   },
   {
    "duration": 26,
    "start_time": "2022-08-02T12:04:01.122Z"
   },
   {
    "duration": 26,
    "start_time": "2022-08-02T12:08:03.021Z"
   },
   {
    "duration": 11,
    "start_time": "2022-08-02T12:10:11.129Z"
   },
   {
    "duration": 15,
    "start_time": "2022-08-02T12:11:01.225Z"
   },
   {
    "duration": 74,
    "start_time": "2022-08-02T12:11:25.225Z"
   },
   {
    "duration": 1083,
    "start_time": "2022-08-02T12:11:46.793Z"
   },
   {
    "duration": 885,
    "start_time": "2022-08-02T12:12:24.883Z"
   },
   {
    "duration": 29,
    "start_time": "2022-08-02T12:13:32.777Z"
   },
   {
    "duration": 23,
    "start_time": "2022-08-02T12:14:38.543Z"
   },
   {
    "duration": 10,
    "start_time": "2022-08-02T12:14:47.217Z"
   },
   {
    "duration": 3000,
    "start_time": "2022-08-02T12:14:56.620Z"
   },
   {
    "duration": 14,
    "start_time": "2022-08-02T12:15:03.492Z"
   },
   {
    "duration": 170,
    "start_time": "2022-08-02T12:16:30.152Z"
   },
   {
    "duration": 2939,
    "start_time": "2022-08-02T12:16:37.421Z"
   },
   {
    "duration": 37,
    "start_time": "2022-08-02T12:16:40.523Z"
   },
   {
    "duration": 42,
    "start_time": "2022-08-02T12:16:50.842Z"
   },
   {
    "duration": 23,
    "start_time": "2022-08-02T12:16:55.366Z"
   },
   {
    "duration": 46,
    "start_time": "2022-08-02T12:17:00.274Z"
   },
   {
    "duration": 559,
    "start_time": "2022-08-02T12:27:10.978Z"
   },
   {
    "duration": 616,
    "start_time": "2022-08-02T12:27:25.679Z"
   },
   {
    "duration": 15,
    "start_time": "2022-08-02T12:28:31.430Z"
   },
   {
    "duration": 12,
    "start_time": "2022-08-02T12:28:34.387Z"
   },
   {
    "duration": 162,
    "start_time": "2022-08-02T12:29:17.743Z"
   },
   {
    "duration": 337,
    "start_time": "2022-08-02T14:00:15.929Z"
   },
   {
    "duration": 146,
    "start_time": "2022-08-02T14:02:42.331Z"
   },
   {
    "duration": 435,
    "start_time": "2022-08-02T14:07:34.022Z"
   },
   {
    "duration": 131,
    "start_time": "2022-08-02T14:07:51.124Z"
   },
   {
    "duration": 155,
    "start_time": "2022-08-02T14:07:55.920Z"
   },
   {
    "duration": 123,
    "start_time": "2022-08-02T14:08:41.353Z"
   },
   {
    "duration": 132,
    "start_time": "2022-08-02T14:09:16.357Z"
   },
   {
    "duration": 34,
    "start_time": "2022-08-02T14:09:19.565Z"
   },
   {
    "duration": 453,
    "start_time": "2022-08-02T14:09:37.134Z"
   },
   {
    "duration": 243,
    "start_time": "2022-08-02T14:09:48.786Z"
   },
   {
    "duration": 164,
    "start_time": "2022-08-02T14:11:11.348Z"
   },
   {
    "duration": 196,
    "start_time": "2022-08-02T14:11:23.578Z"
   },
   {
    "duration": 173,
    "start_time": "2022-08-02T14:11:32.168Z"
   },
   {
    "duration": 26596,
    "start_time": "2022-08-02T14:12:15.857Z"
   },
   {
    "duration": 628,
    "start_time": "2022-08-02T14:12:53.212Z"
   },
   {
    "duration": 207,
    "start_time": "2022-08-02T14:13:05.622Z"
   },
   {
    "duration": 205,
    "start_time": "2022-08-02T14:13:26.069Z"
   },
   {
    "duration": 16,
    "start_time": "2022-08-02T14:13:43.178Z"
   },
   {
    "duration": 208,
    "start_time": "2022-08-02T14:14:04.266Z"
   },
   {
    "duration": 193,
    "start_time": "2022-08-02T14:14:37.716Z"
   },
   {
    "duration": 221,
    "start_time": "2022-08-02T14:14:46.680Z"
   },
   {
    "duration": 265,
    "start_time": "2022-08-02T14:15:39.186Z"
   },
   {
    "duration": 255,
    "start_time": "2022-08-02T14:16:29.668Z"
   },
   {
    "duration": 168,
    "start_time": "2022-08-02T14:16:52.476Z"
   },
   {
    "duration": 226,
    "start_time": "2022-08-02T14:17:05.931Z"
   },
   {
    "duration": 212,
    "start_time": "2022-08-02T14:17:12.250Z"
   },
   {
    "duration": 178,
    "start_time": "2022-08-02T14:17:17.788Z"
   },
   {
    "duration": 247,
    "start_time": "2022-08-02T14:17:27.130Z"
   },
   {
    "duration": 191,
    "start_time": "2022-08-02T14:18:32.146Z"
   },
   {
    "duration": 164,
    "start_time": "2022-08-02T14:18:40.460Z"
   },
   {
    "duration": 202,
    "start_time": "2022-08-02T14:18:47.126Z"
   },
   {
    "duration": 200,
    "start_time": "2022-08-02T14:22:34.330Z"
   },
   {
    "duration": 166,
    "start_time": "2022-08-02T14:22:56.122Z"
   },
   {
    "duration": 152,
    "start_time": "2022-08-02T14:24:14.343Z"
   },
   {
    "duration": 152,
    "start_time": "2022-08-02T14:25:20.473Z"
   },
   {
    "duration": 153,
    "start_time": "2022-08-02T14:27:45.383Z"
   },
   {
    "duration": 188,
    "start_time": "2022-08-02T14:33:04.161Z"
   },
   {
    "duration": 27,
    "start_time": "2022-08-02T14:33:17.777Z"
   },
   {
    "duration": 717,
    "start_time": "2022-08-02T14:33:30.631Z"
   },
   {
    "duration": 574,
    "start_time": "2022-08-02T14:34:02.749Z"
   },
   {
    "duration": 111,
    "start_time": "2022-08-02T14:34:33.369Z"
   },
   {
    "duration": 151,
    "start_time": "2022-08-02T14:34:43.357Z"
   },
   {
    "duration": 144,
    "start_time": "2022-08-02T14:34:53.228Z"
   },
   {
    "duration": 51,
    "start_time": "2022-08-02T14:35:09.137Z"
   },
   {
    "duration": 299,
    "start_time": "2022-08-02T14:35:17.290Z"
   },
   {
    "duration": 255,
    "start_time": "2022-08-02T14:35:34.369Z"
   },
   {
    "duration": 252,
    "start_time": "2022-08-02T14:35:48.749Z"
   },
   {
    "duration": 38,
    "start_time": "2022-08-02T14:40:10.066Z"
   },
   {
    "duration": 35,
    "start_time": "2022-08-02T14:43:39.661Z"
   },
   {
    "duration": 152,
    "start_time": "2022-08-02T14:51:43.525Z"
   },
   {
    "duration": 148,
    "start_time": "2022-08-02T14:51:58.625Z"
   },
   {
    "duration": 160,
    "start_time": "2022-08-02T14:52:05.529Z"
   },
   {
    "duration": 118,
    "start_time": "2022-08-02T14:52:18.092Z"
   },
   {
    "duration": 149,
    "start_time": "2022-08-02T14:52:35.436Z"
   },
   {
    "duration": 118,
    "start_time": "2022-08-02T14:53:00.221Z"
   },
   {
    "duration": 146,
    "start_time": "2022-08-02T14:53:04.035Z"
   },
   {
    "duration": 163,
    "start_time": "2022-08-02T14:53:33.529Z"
   },
   {
    "duration": 144,
    "start_time": "2022-08-02T14:53:40.371Z"
   },
   {
    "duration": 165,
    "start_time": "2022-08-02T14:53:45.336Z"
   },
   {
    "duration": 266,
    "start_time": "2022-08-02T15:06:44.081Z"
   },
   {
    "duration": 1109,
    "start_time": "2022-08-02T15:08:00.914Z"
   },
   {
    "duration": 1683,
    "start_time": "2022-08-02T15:08:22.418Z"
   },
   {
    "duration": 258,
    "start_time": "2022-08-02T15:08:56.626Z"
   },
   {
    "duration": 269,
    "start_time": "2022-08-02T15:09:33.016Z"
   },
   {
    "duration": 259,
    "start_time": "2022-08-02T15:10:10.854Z"
   },
   {
    "duration": 256,
    "start_time": "2022-08-02T15:10:23.754Z"
   },
   {
    "duration": 25,
    "start_time": "2022-08-02T15:10:42.716Z"
   },
   {
    "duration": 103,
    "start_time": "2022-08-02T15:10:54.318Z"
   },
   {
    "duration": 265,
    "start_time": "2022-08-02T15:10:59.617Z"
   },
   {
    "duration": 3840,
    "start_time": "2022-08-02T15:13:00.228Z"
   },
   {
    "duration": 44,
    "start_time": "2022-08-02T15:13:04.071Z"
   },
   {
    "duration": 45,
    "start_time": "2022-08-02T15:13:04.117Z"
   },
   {
    "duration": 613,
    "start_time": "2022-08-02T15:13:04.164Z"
   },
   {
    "duration": 15,
    "start_time": "2022-08-02T15:13:04.779Z"
   },
   {
    "duration": 59,
    "start_time": "2022-08-02T15:13:04.796Z"
   },
   {
    "duration": 0,
    "start_time": "2022-08-02T15:13:04.857Z"
   },
   {
    "duration": 0,
    "start_time": "2022-08-02T15:13:04.859Z"
   },
   {
    "duration": 0,
    "start_time": "2022-08-02T15:13:04.860Z"
   },
   {
    "duration": 0,
    "start_time": "2022-08-02T15:13:04.862Z"
   },
   {
    "duration": 0,
    "start_time": "2022-08-02T15:13:04.863Z"
   },
   {
    "duration": 0,
    "start_time": "2022-08-02T15:13:04.864Z"
   },
   {
    "duration": 0,
    "start_time": "2022-08-02T15:13:04.866Z"
   },
   {
    "duration": 0,
    "start_time": "2022-08-02T15:13:04.868Z"
   },
   {
    "duration": 0,
    "start_time": "2022-08-02T15:13:04.869Z"
   },
   {
    "duration": 0,
    "start_time": "2022-08-02T15:13:04.870Z"
   },
   {
    "duration": 0,
    "start_time": "2022-08-02T15:13:04.872Z"
   },
   {
    "duration": 471,
    "start_time": "2022-08-02T15:13:53.461Z"
   },
   {
    "duration": 14,
    "start_time": "2022-08-02T15:13:57.118Z"
   },
   {
    "duration": 11,
    "start_time": "2022-08-02T15:13:59.169Z"
   },
   {
    "duration": 3042,
    "start_time": "2022-08-02T15:14:00.669Z"
   },
   {
    "duration": 43,
    "start_time": "2022-08-02T15:14:03.714Z"
   },
   {
    "duration": 63,
    "start_time": "2022-08-02T15:14:03.759Z"
   },
   {
    "duration": 619,
    "start_time": "2022-08-02T15:14:03.823Z"
   },
   {
    "duration": 14,
    "start_time": "2022-08-02T15:14:04.445Z"
   },
   {
    "duration": 10,
    "start_time": "2022-08-02T15:14:04.460Z"
   },
   {
    "duration": 324,
    "start_time": "2022-08-02T15:14:04.472Z"
   },
   {
    "duration": 154,
    "start_time": "2022-08-02T15:14:04.798Z"
   },
   {
    "duration": 165,
    "start_time": "2022-08-02T15:14:04.954Z"
   },
   {
    "duration": 338,
    "start_time": "2022-08-02T15:14:05.120Z"
   },
   {
    "duration": 191,
    "start_time": "2022-08-02T15:14:05.460Z"
   },
   {
    "duration": 159,
    "start_time": "2022-08-02T15:14:05.653Z"
   },
   {
    "duration": 195,
    "start_time": "2022-08-02T15:14:05.814Z"
   },
   {
    "duration": 166,
    "start_time": "2022-08-02T15:14:06.012Z"
   },
   {
    "duration": 43,
    "start_time": "2022-08-02T15:14:06.180Z"
   },
   {
    "duration": 3588,
    "start_time": "2022-08-02T15:14:35.618Z"
   },
   {
    "duration": 41,
    "start_time": "2022-08-02T15:14:39.214Z"
   },
   {
    "duration": 44,
    "start_time": "2022-08-02T15:14:41.258Z"
   },
   {
    "duration": 568,
    "start_time": "2022-08-02T15:14:43.419Z"
   },
   {
    "duration": 520,
    "start_time": "2022-08-02T15:14:45.619Z"
   },
   {
    "duration": 15,
    "start_time": "2022-08-02T15:14:48.279Z"
   },
   {
    "duration": 10,
    "start_time": "2022-08-02T15:14:50.516Z"
   },
   {
    "duration": 342,
    "start_time": "2022-08-02T15:14:52.770Z"
   },
   {
    "duration": 382,
    "start_time": "2022-08-02T15:14:55.866Z"
   },
   {
    "duration": 146,
    "start_time": "2022-08-02T15:14:58.370Z"
   },
   {
    "duration": 125,
    "start_time": "2022-08-02T15:15:01.031Z"
   },
   {
    "duration": 208,
    "start_time": "2022-08-02T15:15:03.012Z"
   },
   {
    "duration": 153,
    "start_time": "2022-08-02T15:15:06.218Z"
   },
   {
    "duration": 152,
    "start_time": "2022-08-02T15:15:14.338Z"
   },
   {
    "duration": 146,
    "start_time": "2022-08-02T15:15:16.420Z"
   },
   {
    "duration": 35,
    "start_time": "2022-08-02T15:15:19.512Z"
   },
   {
    "duration": 4455,
    "start_time": "2022-08-02T17:15:50.238Z"
   },
   {
    "duration": 39,
    "start_time": "2022-08-02T17:15:54.695Z"
   },
   {
    "duration": 40,
    "start_time": "2022-08-02T17:15:54.735Z"
   },
   {
    "duration": 591,
    "start_time": "2022-08-02T17:15:54.777Z"
   },
   {
    "duration": 14,
    "start_time": "2022-08-02T17:15:55.370Z"
   },
   {
    "duration": 9,
    "start_time": "2022-08-02T17:15:55.386Z"
   },
   {
    "duration": 325,
    "start_time": "2022-08-02T17:15:55.396Z"
   },
   {
    "duration": 146,
    "start_time": "2022-08-02T17:15:55.722Z"
   },
   {
    "duration": 148,
    "start_time": "2022-08-02T17:15:55.869Z"
   },
   {
    "duration": 129,
    "start_time": "2022-08-02T17:15:56.020Z"
   },
   {
    "duration": 333,
    "start_time": "2022-08-02T17:15:56.151Z"
   },
   {
    "duration": 157,
    "start_time": "2022-08-02T17:15:56.485Z"
   },
   {
    "duration": 166,
    "start_time": "2022-08-02T17:15:56.643Z"
   },
   {
    "duration": 150,
    "start_time": "2022-08-02T17:15:56.810Z"
   },
   {
    "duration": 35,
    "start_time": "2022-08-02T17:15:56.961Z"
   },
   {
    "duration": 75902,
    "start_time": "2022-08-02T17:15:56.998Z"
   },
   {
    "duration": 58,
    "start_time": "2022-08-03T03:12:56.176Z"
   },
   {
    "duration": 4167,
    "start_time": "2022-08-03T03:13:24.771Z"
   },
   {
    "duration": 51,
    "start_time": "2022-08-03T03:13:28.941Z"
   },
   {
    "duration": 44,
    "start_time": "2022-08-03T03:13:28.993Z"
   },
   {
    "duration": 574,
    "start_time": "2022-08-03T03:13:29.039Z"
   },
   {
    "duration": 15,
    "start_time": "2022-08-03T03:13:29.615Z"
   },
   {
    "duration": 11,
    "start_time": "2022-08-03T03:13:29.632Z"
   },
   {
    "duration": 346,
    "start_time": "2022-08-03T03:13:29.644Z"
   },
   {
    "duration": 157,
    "start_time": "2022-08-03T03:13:29.992Z"
   },
   {
    "duration": 179,
    "start_time": "2022-08-03T03:13:30.151Z"
   },
   {
    "duration": 134,
    "start_time": "2022-08-03T03:13:30.332Z"
   },
   {
    "duration": 372,
    "start_time": "2022-08-03T03:13:30.467Z"
   },
   {
    "duration": 167,
    "start_time": "2022-08-03T03:13:30.841Z"
   },
   {
    "duration": 164,
    "start_time": "2022-08-03T03:13:31.010Z"
   },
   {
    "duration": 154,
    "start_time": "2022-08-03T03:13:31.186Z"
   },
   {
    "duration": 47,
    "start_time": "2022-08-03T03:13:31.341Z"
   },
   {
    "duration": 3507,
    "start_time": "2022-08-03T06:36:13.205Z"
   },
   {
    "duration": 2773,
    "start_time": "2022-08-03T06:36:44.792Z"
   },
   {
    "duration": 2632,
    "start_time": "2022-08-03T06:37:04.364Z"
   },
   {
    "duration": 8,
    "start_time": "2022-08-03T06:40:28.540Z"
   },
   {
    "duration": 2,
    "start_time": "2022-08-03T06:40:36.478Z"
   },
   {
    "duration": 2618,
    "start_time": "2022-08-03T06:40:37.843Z"
   },
   {
    "duration": 48,
    "start_time": "2022-08-03T06:43:48.588Z"
   },
   {
    "duration": 408,
    "start_time": "2022-08-03T06:48:37.203Z"
   },
   {
    "duration": 87,
    "start_time": "2022-08-03T06:54:43.237Z"
   },
   {
    "duration": 18,
    "start_time": "2022-08-03T06:54:53.480Z"
   },
   {
    "duration": 38,
    "start_time": "2022-08-03T06:54:59.431Z"
   },
   {
    "duration": 678,
    "start_time": "2022-08-03T06:55:03.440Z"
   },
   {
    "duration": 13,
    "start_time": "2022-08-03T06:55:11.386Z"
   },
   {
    "duration": 10,
    "start_time": "2022-08-03T06:55:12.835Z"
   },
   {
    "duration": 324,
    "start_time": "2022-08-03T06:55:15.036Z"
   },
   {
    "duration": 140,
    "start_time": "2022-08-03T06:55:17.639Z"
   },
   {
    "duration": 136,
    "start_time": "2022-08-03T06:55:20.133Z"
   },
   {
    "duration": 118,
    "start_time": "2022-08-03T06:55:22.031Z"
   },
   {
    "duration": 159,
    "start_time": "2022-08-03T06:55:24.141Z"
   },
   {
    "duration": 208,
    "start_time": "2022-08-03T06:57:12.253Z"
   },
   {
    "duration": 198,
    "start_time": "2022-08-03T06:57:28.436Z"
   },
   {
    "duration": 189,
    "start_time": "2022-08-03T06:57:43.852Z"
   },
   {
    "duration": 202,
    "start_time": "2022-08-03T06:57:50.332Z"
   },
   {
    "duration": 37,
    "start_time": "2022-08-03T07:01:29.282Z"
   },
   {
    "duration": 209,
    "start_time": "2022-08-03T07:01:52.734Z"
   },
   {
    "duration": 330,
    "start_time": "2022-08-03T07:03:15.766Z"
   },
   {
    "duration": 296,
    "start_time": "2022-08-03T07:06:39.359Z"
   },
   {
    "duration": 309,
    "start_time": "2022-08-03T07:06:49.905Z"
   },
   {
    "duration": 285,
    "start_time": "2022-08-03T07:07:46.696Z"
   },
   {
    "duration": 373,
    "start_time": "2022-08-03T07:07:53.008Z"
   },
   {
    "duration": 289,
    "start_time": "2022-08-03T07:07:58.638Z"
   },
   {
    "duration": 298,
    "start_time": "2022-08-03T07:11:16.197Z"
   },
   {
    "duration": 277,
    "start_time": "2022-08-03T07:11:22.745Z"
   },
   {
    "duration": 193,
    "start_time": "2022-08-03T07:11:36.930Z"
   },
   {
    "duration": 193,
    "start_time": "2022-08-03T07:11:43.930Z"
   },
   {
    "duration": 180,
    "start_time": "2022-08-03T07:11:49.545Z"
   },
   {
    "duration": 289,
    "start_time": "2022-08-03T07:11:53.233Z"
   },
   {
    "duration": 189,
    "start_time": "2022-08-03T07:11:59.001Z"
   },
   {
    "duration": 194,
    "start_time": "2022-08-03T07:12:03.584Z"
   },
   {
    "duration": 215,
    "start_time": "2022-08-03T07:12:07.533Z"
   },
   {
    "duration": 173,
    "start_time": "2022-08-03T07:12:26.540Z"
   },
   {
    "duration": 170,
    "start_time": "2022-08-03T07:12:42.261Z"
   },
   {
    "duration": 313,
    "start_time": "2022-08-03T07:13:06.565Z"
   },
   {
    "duration": 399,
    "start_time": "2022-08-03T07:13:25.729Z"
   },
   {
    "duration": 357,
    "start_time": "2022-08-03T07:13:41.435Z"
   },
   {
    "duration": 308,
    "start_time": "2022-08-03T07:14:27.830Z"
   },
   {
    "duration": 964,
    "start_time": "2022-08-03T07:16:20.903Z"
   },
   {
    "duration": 1344,
    "start_time": "2022-08-03T07:16:42.527Z"
   },
   {
    "duration": 933,
    "start_time": "2022-08-03T07:16:51.434Z"
   },
   {
    "duration": 255,
    "start_time": "2022-08-03T07:18:03.932Z"
   },
   {
    "duration": 358,
    "start_time": "2022-08-03T07:18:09.629Z"
   },
   {
    "duration": 392,
    "start_time": "2022-08-03T07:19:29.129Z"
   },
   {
    "duration": 3,
    "start_time": "2022-08-03T07:20:24.655Z"
   },
   {
    "duration": 2858,
    "start_time": "2022-08-03T07:20:24.670Z"
   },
   {
    "duration": 150,
    "start_time": "2022-08-03T07:20:27.531Z"
   },
   {
    "duration": 51,
    "start_time": "2022-08-03T07:20:27.683Z"
   },
   {
    "duration": 583,
    "start_time": "2022-08-03T07:20:27.736Z"
   },
   {
    "duration": 14,
    "start_time": "2022-08-03T07:20:28.320Z"
   },
   {
    "duration": 39,
    "start_time": "2022-08-03T07:20:28.336Z"
   },
   {
    "duration": 307,
    "start_time": "2022-08-03T07:20:28.376Z"
   },
   {
    "duration": 138,
    "start_time": "2022-08-03T07:20:28.684Z"
   },
   {
    "duration": 143,
    "start_time": "2022-08-03T07:20:28.824Z"
   },
   {
    "duration": 123,
    "start_time": "2022-08-03T07:20:28.969Z"
   },
   {
    "duration": 175,
    "start_time": "2022-08-03T07:20:29.094Z"
   },
   {
    "duration": 149,
    "start_time": "2022-08-03T07:20:29.271Z"
   },
   {
    "duration": 215,
    "start_time": "2022-08-03T07:20:29.421Z"
   },
   {
    "duration": 139,
    "start_time": "2022-08-03T07:20:29.638Z"
   },
   {
    "duration": 331,
    "start_time": "2022-08-03T07:20:29.779Z"
   },
   {
    "duration": 652,
    "start_time": "2022-08-03T07:23:38.582Z"
   },
   {
    "duration": 2840,
    "start_time": "2022-08-03T07:23:39.236Z"
   },
   {
    "duration": 37,
    "start_time": "2022-08-03T07:23:42.078Z"
   },
   {
    "duration": 37,
    "start_time": "2022-08-03T07:23:42.118Z"
   },
   {
    "duration": 544,
    "start_time": "2022-08-03T07:23:42.156Z"
   },
   {
    "duration": 22,
    "start_time": "2022-08-03T07:23:42.709Z"
   },
   {
    "duration": 12,
    "start_time": "2022-08-03T07:23:42.732Z"
   },
   {
    "duration": 330,
    "start_time": "2022-08-03T07:23:42.746Z"
   },
   {
    "duration": 145,
    "start_time": "2022-08-03T07:23:43.078Z"
   },
   {
    "duration": 205,
    "start_time": "2022-08-03T07:23:43.225Z"
   },
   {
    "duration": 149,
    "start_time": "2022-08-03T07:23:43.431Z"
   },
   {
    "duration": 384,
    "start_time": "2022-08-03T07:23:43.581Z"
   },
   {
    "duration": 179,
    "start_time": "2022-08-03T07:23:43.966Z"
   },
   {
    "duration": 193,
    "start_time": "2022-08-03T07:23:44.146Z"
   },
   {
    "duration": 172,
    "start_time": "2022-08-03T07:23:44.340Z"
   },
   {
    "duration": 320,
    "start_time": "2022-08-03T07:23:44.515Z"
   },
   {
    "duration": 0,
    "start_time": "2022-08-03T07:25:03.182Z"
   },
   {
    "duration": 0,
    "start_time": "2022-08-03T07:25:03.183Z"
   },
   {
    "duration": 0,
    "start_time": "2022-08-03T07:25:03.184Z"
   },
   {
    "duration": 0,
    "start_time": "2022-08-03T07:25:03.185Z"
   },
   {
    "duration": 0,
    "start_time": "2022-08-03T07:25:03.186Z"
   },
   {
    "duration": 3,
    "start_time": "2022-08-03T07:25:54.234Z"
   },
   {
    "duration": 2979,
    "start_time": "2022-08-03T07:25:55.632Z"
   },
   {
    "duration": 32,
    "start_time": "2022-08-03T07:26:02.055Z"
   },
   {
    "duration": 38,
    "start_time": "2022-08-03T07:26:04.539Z"
   },
   {
    "duration": 627,
    "start_time": "2022-08-03T07:26:06.855Z"
   },
   {
    "duration": 27,
    "start_time": "2022-08-03T07:26:09.799Z"
   },
   {
    "duration": 11,
    "start_time": "2022-08-03T07:26:11.758Z"
   },
   {
    "duration": 302,
    "start_time": "2022-08-03T07:26:14.034Z"
   },
   {
    "duration": 172,
    "start_time": "2022-08-03T07:26:16.576Z"
   },
   {
    "duration": 162,
    "start_time": "2022-08-03T07:26:18.988Z"
   },
   {
    "duration": 126,
    "start_time": "2022-08-03T07:26:20.943Z"
   },
   {
    "duration": 174,
    "start_time": "2022-08-03T07:26:23.469Z"
   },
   {
    "duration": 157,
    "start_time": "2022-08-03T07:26:27.175Z"
   },
   {
    "duration": 179,
    "start_time": "2022-08-03T07:26:29.759Z"
   },
   {
    "duration": 153,
    "start_time": "2022-08-03T07:26:32.484Z"
   },
   {
    "duration": 353,
    "start_time": "2022-08-03T07:26:35.035Z"
   },
   {
    "duration": 25,
    "start_time": "2022-08-03T07:26:38.788Z"
   },
   {
    "duration": 117,
    "start_time": "2022-08-03T07:26:53.781Z"
   },
   {
    "duration": 125,
    "start_time": "2022-08-03T07:27:21.296Z"
   },
   {
    "duration": 21,
    "start_time": "2022-08-03T07:27:53.724Z"
   },
   {
    "duration": 126,
    "start_time": "2022-08-03T07:28:02.078Z"
   },
   {
    "duration": 116,
    "start_time": "2022-08-03T07:28:05.775Z"
   },
   {
    "duration": 148,
    "start_time": "2022-08-03T07:29:17.517Z"
   },
   {
    "duration": 127,
    "start_time": "2022-08-03T07:29:29.739Z"
   },
   {
    "duration": 137,
    "start_time": "2022-08-03T07:29:35.084Z"
   },
   {
    "duration": 128,
    "start_time": "2022-08-03T07:29:47.442Z"
   },
   {
    "duration": 116,
    "start_time": "2022-08-03T07:30:20.928Z"
   },
   {
    "duration": 1162,
    "start_time": "2022-08-03T07:30:30.858Z"
   },
   {
    "duration": 97,
    "start_time": "2022-08-03T07:30:57.952Z"
   },
   {
    "duration": 105,
    "start_time": "2022-08-03T07:31:13.609Z"
   },
   {
    "duration": 112,
    "start_time": "2022-08-03T07:31:18.244Z"
   },
   {
    "duration": 109,
    "start_time": "2022-08-03T07:31:24.148Z"
   },
   {
    "duration": 125,
    "start_time": "2022-08-03T07:31:30.784Z"
   },
   {
    "duration": 149,
    "start_time": "2022-08-03T07:31:37.632Z"
   },
   {
    "duration": 117,
    "start_time": "2022-08-03T07:31:43.641Z"
   },
   {
    "duration": 120,
    "start_time": "2022-08-03T07:31:49.393Z"
   },
   {
    "duration": 132,
    "start_time": "2022-08-03T07:31:52.427Z"
   },
   {
    "duration": 100,
    "start_time": "2022-08-03T07:31:58.928Z"
   },
   {
    "duration": 200,
    "start_time": "2022-08-03T07:32:33.314Z"
   },
   {
    "duration": 283,
    "start_time": "2022-08-03T07:32:47.433Z"
   },
   {
    "duration": 287,
    "start_time": "2022-08-03T07:33:07.288Z"
   },
   {
    "duration": 100,
    "start_time": "2022-08-03T07:33:15.513Z"
   },
   {
    "duration": 1382,
    "start_time": "2022-08-03T07:33:29.848Z"
   },
   {
    "duration": 109,
    "start_time": "2022-08-03T07:33:38.618Z"
   },
   {
    "duration": 105,
    "start_time": "2022-08-03T07:33:47.118Z"
   },
   {
    "duration": 145,
    "start_time": "2022-08-03T07:34:37.188Z"
   },
   {
    "duration": 109,
    "start_time": "2022-08-03T07:34:43.488Z"
   },
   {
    "duration": 107,
    "start_time": "2022-08-03T07:34:49.017Z"
   },
   {
    "duration": 117,
    "start_time": "2022-08-03T07:35:05.648Z"
   },
   {
    "duration": 121,
    "start_time": "2022-08-03T07:35:15.141Z"
   },
   {
    "duration": 206,
    "start_time": "2022-08-03T07:35:31.561Z"
   },
   {
    "duration": 108,
    "start_time": "2022-08-03T07:35:42.353Z"
   },
   {
    "duration": 103,
    "start_time": "2022-08-03T07:35:56.345Z"
   },
   {
    "duration": 1362,
    "start_time": "2022-08-03T07:37:31.385Z"
   },
   {
    "duration": 1469,
    "start_time": "2022-08-03T07:37:46.073Z"
   },
   {
    "duration": 37,
    "start_time": "2022-08-03T07:38:20.397Z"
   },
   {
    "duration": 109,
    "start_time": "2022-08-03T07:38:36.353Z"
   },
   {
    "duration": 1497,
    "start_time": "2022-08-03T08:00:52.544Z"
   },
   {
    "duration": 1484,
    "start_time": "2022-08-03T08:01:03.732Z"
   },
   {
    "duration": 1738,
    "start_time": "2022-08-03T08:01:10.061Z"
   },
   {
    "duration": 1639,
    "start_time": "2022-08-03T08:01:19.527Z"
   },
   {
    "duration": 184,
    "start_time": "2022-08-03T08:01:27.741Z"
   },
   {
    "duration": 190,
    "start_time": "2022-08-03T08:05:05.042Z"
   },
   {
    "duration": 150,
    "start_time": "2022-08-03T08:05:15.282Z"
   },
   {
    "duration": 167,
    "start_time": "2022-08-03T08:05:42.545Z"
   },
   {
    "duration": 184,
    "start_time": "2022-08-03T08:05:56.462Z"
   },
   {
    "duration": 166,
    "start_time": "2022-08-03T08:06:07.963Z"
   },
   {
    "duration": 308,
    "start_time": "2022-08-03T08:06:14.939Z"
   },
   {
    "duration": 164,
    "start_time": "2022-08-03T08:06:25.597Z"
   },
   {
    "duration": 205,
    "start_time": "2022-08-03T08:06:38.544Z"
   },
   {
    "duration": 1985,
    "start_time": "2022-08-03T08:23:29.445Z"
   },
   {
    "duration": 182,
    "start_time": "2022-08-03T08:23:41.649Z"
   },
   {
    "duration": 204,
    "start_time": "2022-08-03T08:23:55.136Z"
   },
   {
    "duration": 192,
    "start_time": "2022-08-03T08:24:00.337Z"
   },
   {
    "duration": 188,
    "start_time": "2022-08-03T08:24:07.653Z"
   },
   {
    "duration": 204,
    "start_time": "2022-08-03T08:24:11.369Z"
   },
   {
    "duration": 198,
    "start_time": "2022-08-03T08:24:15.187Z"
   },
   {
    "duration": 176,
    "start_time": "2022-08-03T08:27:45.848Z"
   },
   {
    "duration": 230,
    "start_time": "2022-08-03T08:27:50.584Z"
   },
   {
    "duration": 166,
    "start_time": "2022-08-03T08:28:00.349Z"
   },
   {
    "duration": 232,
    "start_time": "2022-08-03T08:28:29.950Z"
   },
   {
    "duration": 199,
    "start_time": "2022-08-03T08:28:57.289Z"
   },
   {
    "duration": 91,
    "start_time": "2022-08-03T08:31:04.974Z"
   },
   {
    "duration": 165,
    "start_time": "2022-08-03T08:31:21.278Z"
   },
   {
    "duration": 30,
    "start_time": "2022-08-03T08:31:42.479Z"
   },
   {
    "duration": 638,
    "start_time": "2022-08-03T08:33:01.628Z"
   },
   {
    "duration": 2859,
    "start_time": "2022-08-03T08:33:02.268Z"
   },
   {
    "duration": 35,
    "start_time": "2022-08-03T08:33:05.130Z"
   },
   {
    "duration": 48,
    "start_time": "2022-08-03T08:33:05.167Z"
   },
   {
    "duration": 634,
    "start_time": "2022-08-03T08:33:05.217Z"
   },
   {
    "duration": 24,
    "start_time": "2022-08-03T08:33:05.902Z"
   },
   {
    "duration": 12,
    "start_time": "2022-08-03T08:33:05.928Z"
   },
   {
    "duration": 873,
    "start_time": "2022-08-03T08:33:05.942Z"
   },
   {
    "duration": 297,
    "start_time": "2022-08-03T08:33:06.817Z"
   },
   {
    "duration": 399,
    "start_time": "2022-08-03T08:33:07.116Z"
   },
   {
    "duration": 298,
    "start_time": "2022-08-03T08:33:07.522Z"
   },
   {
    "duration": 394,
    "start_time": "2022-08-03T08:33:07.825Z"
   },
   {
    "duration": 154,
    "start_time": "2022-08-03T08:33:08.220Z"
   },
   {
    "duration": 166,
    "start_time": "2022-08-03T08:33:08.376Z"
   },
   {
    "duration": 144,
    "start_time": "2022-08-03T08:33:08.544Z"
   },
   {
    "duration": 377,
    "start_time": "2022-08-03T08:33:08.689Z"
   },
   {
    "duration": 188,
    "start_time": "2022-08-03T08:33:09.067Z"
   },
   {
    "duration": 326,
    "start_time": "2022-08-03T08:35:04.263Z"
   },
   {
    "duration": 145,
    "start_time": "2022-08-03T08:37:59.317Z"
   },
   {
    "duration": 676,
    "start_time": "2022-08-03T08:43:11.327Z"
   },
   {
    "duration": 4786,
    "start_time": "2022-08-03T08:43:12.010Z"
   },
   {
    "duration": 34,
    "start_time": "2022-08-03T08:43:16.798Z"
   },
   {
    "duration": 38,
    "start_time": "2022-08-03T08:43:16.834Z"
   },
   {
    "duration": 588,
    "start_time": "2022-08-03T08:43:16.874Z"
   },
   {
    "duration": 13,
    "start_time": "2022-08-03T08:43:17.464Z"
   },
   {
    "duration": 10,
    "start_time": "2022-08-03T08:43:17.478Z"
   },
   {
    "duration": 316,
    "start_time": "2022-08-03T08:43:17.503Z"
   },
   {
    "duration": 139,
    "start_time": "2022-08-03T08:43:17.821Z"
   },
   {
    "duration": 159,
    "start_time": "2022-08-03T08:43:17.961Z"
   },
   {
    "duration": 130,
    "start_time": "2022-08-03T08:43:18.122Z"
   },
   {
    "duration": 359,
    "start_time": "2022-08-03T08:43:18.253Z"
   },
   {
    "duration": 167,
    "start_time": "2022-08-03T08:43:18.617Z"
   },
   {
    "duration": 164,
    "start_time": "2022-08-03T08:43:18.786Z"
   },
   {
    "duration": 159,
    "start_time": "2022-08-03T08:43:18.952Z"
   },
   {
    "duration": 315,
    "start_time": "2022-08-03T08:43:19.116Z"
   },
   {
    "duration": 27,
    "start_time": "2022-08-03T08:43:19.433Z"
   },
   {
    "duration": 486,
    "start_time": "2022-08-03T08:45:06.494Z"
   },
   {
    "duration": 29,
    "start_time": "2022-08-03T08:45:39.524Z"
   },
   {
    "duration": 25,
    "start_time": "2022-08-03T08:46:08.738Z"
   },
   {
    "duration": 1308,
    "start_time": "2022-08-03T08:46:35.088Z"
   },
   {
    "duration": 78174,
    "start_time": "2022-08-03T08:46:50.666Z"
   },
   {
    "duration": 170,
    "start_time": "2022-08-03T08:52:36.265Z"
   },
   {
    "duration": 166,
    "start_time": "2022-08-03T08:53:00.095Z"
   },
   {
    "duration": 172,
    "start_time": "2022-08-03T08:53:11.424Z"
   },
   {
    "duration": 167,
    "start_time": "2022-08-03T08:53:27.131Z"
   },
   {
    "duration": 205,
    "start_time": "2022-08-03T08:53:44.643Z"
   },
   {
    "duration": 156,
    "start_time": "2022-08-03T08:54:26.591Z"
   },
   {
    "duration": 21,
    "start_time": "2022-08-03T08:54:57.420Z"
   },
   {
    "duration": 149,
    "start_time": "2022-08-03T08:55:04.894Z"
   },
   {
    "duration": 45,
    "start_time": "2022-08-13T09:30:58.139Z"
   },
   {
    "duration": 517,
    "start_time": "2022-08-13T09:31:07.851Z"
   },
   {
    "duration": 2602,
    "start_time": "2022-08-13T09:31:08.475Z"
   },
   {
    "duration": 25,
    "start_time": "2022-08-13T09:31:11.079Z"
   },
   {
    "duration": 35,
    "start_time": "2022-08-13T09:31:12.103Z"
   },
   {
    "duration": 465,
    "start_time": "2022-08-13T09:31:13.156Z"
   },
   {
    "duration": 10,
    "start_time": "2022-08-13T09:31:15.622Z"
   },
   {
    "duration": 17,
    "start_time": "2022-08-13T09:31:17.027Z"
   }
  ],
  "kernelspec": {
   "display_name": "Python 3 (ipykernel)",
   "language": "python",
   "name": "python3"
  },
  "language_info": {
   "codemirror_mode": {
    "name": "ipython",
    "version": 3
   },
   "file_extension": ".py",
   "mimetype": "text/x-python",
   "name": "python",
   "nbconvert_exporter": "python",
   "pygments_lexer": "ipython3",
   "version": "3.9.12"
  },
  "toc": {
   "base_numbering": 1,
   "nav_menu": {},
   "number_sections": true,
   "sideBar": true,
   "skip_h1_title": true,
   "title_cell": "Table of Contents",
   "title_sidebar": "Contents",
   "toc_cell": false,
   "toc_position": {
    "height": "calc(100% - 180px)",
    "left": "10px",
    "top": "150px",
    "width": "366.391px"
   },
   "toc_section_display": true,
   "toc_window_display": true
  }
 },
 "nbformat": 4,
 "nbformat_minor": 2
}
